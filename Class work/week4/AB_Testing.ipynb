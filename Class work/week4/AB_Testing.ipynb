{
 "cells": [
  {
   "cell_type": "markdown",
   "id": "139c0263",
   "metadata": {},
   "source": [
    "\n",
    "# A/B Testing\n",
    "\n",
    "A/B testing, also known as split testing, is a method used to compare two versions of a webpage, app, or product to determine which one performs better. This method is widely utilized in marketing, product design, user experience testing, and more. It helps teams make data-driven decisions by understanding which version yields the desired outcomes.\n"
   ]
  },
  {
   "cell_type": "code",
   "execution_count": 13,
   "id": "609fea95",
   "metadata": {},
   "outputs": [],
   "source": [
    "\n",
    "# Import required libraries\n",
    "import numpy as np\n",
    "import pandas as pd\n",
    "import scipy.stats as stats\n",
    "import matplotlib.pyplot as plt\n",
    "from statsmodels.stats.power import TTestIndPower\n",
    "\n",
    "%matplotlib inline"
   ]
  },
  {
   "cell_type": "markdown",
   "id": "8faaa504",
   "metadata": {},
   "source": [
    "\n",
    "## 1. Experimental Design\n",
    "\n",
    "Before conducting A/B testing, it’s important to ensure **well-designed experiments** that can provide meaningful results.\n",
    "\n",
    "### Key Design Principles:\n",
    "- **Well-Formulated Questions**: Specific and measurable to avoid unintended consequences.\n",
    "- **Selecting Appropriate Parameters**: Balance between alpha (α), power, sample size, and effect size.\n",
    "- **Preprocessing Data**: Handle anomalies and outliers before running statistical tests.\n",
    "\n",
    "**Goodheart’s Law**: When a measure becomes a target, it ceases to be a good measure.\n"
   ]
  },
  {
   "cell_type": "markdown",
   "id": "66354d00",
   "metadata": {},
   "source": [
    "\n",
    "## 2. Effect Size and P-Values\n",
    "\n",
    "Effect size quantifies **how large the difference is** between two groups, providing practical insights beyond mere statistical significance.\n",
    "\n",
    "**Relationship between Effect Size and P-value:**\n",
    "- P-value indicates if the difference is statistically significant.\n",
    "- **Effect size** shows how meaningful the difference is.\n",
    "\n",
    "**Why do wee need to calculate the effect size**\n",
    "\n",
    "- Communicate the practical significance of results. An effect might be statistically significant, but does it matter in practical scenarios?\n",
    "\n",
    "- Effect size calculation and interpretation allows you to draw Meta-Analytical conclusions. This allows you to group together a number of existing studies, calculate the meta-analytic effect size and get the best estimate of the effect size of the population.\n",
    "\n",
    "- Perform Power Analysis, which helps determine the number of participants (sample size) that a study requires to achieve a certain probability of finding a true effect - if there is one.\n",
    "\n",
    "### Example: Height Difference Between Males and Females\n",
    "We will use **SciPy** to explore the effect size of height between males and females in the US.\n"
   ]
  },
  {
   "cell_type": "code",
   "execution_count": 14,
   "id": "06910fe7",
   "metadata": {},
   "outputs": [
    {
     "data": {
      "image/png": "[encoded data removed]",
      "text/plain": [
       "<Figure size 432x288 with 1 Axes>"
      ]
     },
     "metadata": {
      "needs_background": "light"
     },
     "output_type": "display_data"
    }
   ],
   "source": [
    "\n",
    "# Define mean and standard deviation for male and female heights\n",
    "male_mean, male_sd = 178, 7.7\n",
    "female_mean, female_sd = 163, 7.3\n",
    "\n",
    "# Create normal distributions for heights\n",
    "male_height = stats.norm(male_mean, male_sd)\n",
    "female_height = stats.norm(female_mean, female_sd)\n",
    "\n",
    "# Function to evaluate the PDF\n",
    "def evaluate_PDF(rv, x=4):\n",
    "    mean, std = rv.mean(), rv.std()\n",
    "    xs = np.linspace(mean - x * std, mean + x * std, 100)\n",
    "    ys = rv.pdf(xs)\n",
    "    return xs, ys\n",
    "\n",
    "# Plot PDFs for both distributions\n",
    "xs, ys = evaluate_PDF(male_height)\n",
    "plt.plot(xs, ys, label='Male', color='blue')\n",
    "\n",
    "xs, ys = evaluate_PDF(female_height)\n",
    "plt.plot(xs, ys, label='Female', color='orange')\n",
    "plt.xlabel('Height (cm)')\n",
    "plt.legend()\n",
    "plt.title(\"PDF of Male and Female Heights\")\n",
    "plt.show()\n"
   ]
  },
  {
   "cell_type": "markdown",
   "id": "6396db35",
   "metadata": {},
   "source": [
    "## Interprataions of Results\n",
    "\n",
    "### Shape of Distributions\n",
    "- **Distribution**: Bell-shaped and normal.\n",
    "- **Males**: Generally taller (mean: **178 cm**).\n",
    "- **Females**: Generally shorter (mean: **163 cm**).\n",
    "\n",
    "### Spread\n",
    "- **Males**: More variability (SD: **7.7 cm**).\n",
    "- **Females**: Less variability (SD: **7.3 cm**).\n",
    "\n",
    "### Probability Density\n",
    "- Higher peaks near the mean.\n",
    "- Areas under the curves sum to **1**.\n",
    "\n",
    "### Comparative Analysis\n",
    "- Overlap shows that some females can be taller than shorter males, illustrating height variability.\n"
   ]
  },
  {
   "cell_type": "markdown",
   "id": "2efae3ae",
   "metadata": {},
   "source": [
    "\n",
    "## 3. Calculating Effect Size (Unstandardized and Standardized)\n",
    "\n",
    "### 3.1 Unstandardized Effect Size\n",
    "The difference in means provides an **unstandardized effect size**.\n",
    "\n",
    "\n"
   ]
  },
  {
   "cell_type": "code",
   "execution_count": 15,
   "id": "8559f147",
   "metadata": {},
   "outputs": [
    {
     "name": "stdout",
     "output_type": "stream",
     "text": [
      "Difference in Means: 14.89 cm\n"
     ]
    }
   ],
   "source": [
    "\n",
    "# Generate samples from the distributions\n",
    "male_sample = male_height.rvs(1000)\n",
    "female_sample = female_height.rvs(1000)\n",
    "\n",
    "# Calculate the difference in means\n",
    "difference_in_means = male_sample.mean() - female_sample.mean()\n",
    "print(f\"Difference in Means: {difference_in_means:.2f} cm\")"
   ]
  },
  {
   "cell_type": "markdown",
   "id": "6b30e029",
   "metadata": {},
   "source": [
    "## Interpretation of Results\n",
    "\n",
    "### Significance of Difference\n",
    "A difference of **14.50 cm** suggests that, on average, the male sample is significantly taller than the female sample.\n",
    "\n",
    "### Relevance\n",
    "This difference can be significant in various applications, such as ergonomics, clothing design, and health assessments. For example, understanding average height differences can guide product design to ensure that items like chairs, desks, and clothing fit appropriately for different genders."
   ]
  },
  {
   "cell_type": "markdown",
   "id": "9810bf3d",
   "metadata": {},
   "source": [
    "### 3.2 Cohen's d (Standardized Effect Size)\n",
    "Cohen’s d expresses the size of the effect in terms of **standard deviations**.\n",
    "pooled var\n",
    "![](pooledvar.PNG)"
   ]
  },
  {
   "cell_type": "code",
   "execution_count": 16,
   "id": "d1a6dc1a",
   "metadata": {},
   "outputs": [
    {
     "name": "stdout",
     "output_type": "stream",
     "text": [
      "Cohen's d: 1.98\n"
     ]
    }
   ],
   "source": [
    "# Function to compute Cohen's d\n",
    "def Cohen_d(group1, group2):\n",
    "    diff = group1.mean() - group2.mean()\n",
    "    n1, n2 = len(group1), len(group2)\n",
    "    pooled_var = ((n1 - 1) * group1.var() + (n2 - 1) * group2.var()) / (n1 + n2 - 2)\n",
    "    return diff / np.sqrt(pooled_var)\n",
    "\n",
    "# Calculate and display Cohen's d\n",
    "cohen_d_value = Cohen_d(male_sample, female_sample)\n",
    "print(f\"Cohen's d: {cohen_d_value:.2f}\")"
   ]
  },
  {
   "cell_type": "markdown",
   "id": "ce82f45d",
   "metadata": {},
   "source": [
    "## Interpretation of Cohen's d\n",
    "\n",
    "### Understanding Cohen's d\n",
    "Cohen's d provides a measure of the effect size, which can help in understanding the practical significance of the difference between groups. The value of Cohen's d can be interpreted as follows:\n",
    "- **0.2**: Small effect size\n",
    "- **0.5**: Medium effect size\n",
    "- **0.8**: Large effect size\n",
    "\n",
    "A Cohen's d of **1.90** significantly exceeds the threshold for a large effect, suggesting that the difference in means between the two groups (males and females) is substantial. This indicates a strong practical significance in the difference observed, highlighting that the difference in heights is not only statistically significant but also meaningful in real-world contexts.\n",
    "\n",
    "### Further Analysis\n",
    "This measure can be used in conjunction with statistical tests (like t-tests) to provide a more comprehensive view of the data. In reports or presentations, Cohen's d can be used to substantiate claims about differences between groups, helping stakeholders understand the relevance of findings."
   ]
  },
  {
   "cell_type": "markdown",
   "id": "8d11425f",
   "metadata": {},
   "source": [
    "\n",
    "## 4. Statistical Power\n",
    "\n",
    "**Statistical power** is the probability of rejecting the null hypothesis when it is false (avoiding a Type II error).\n",
    "\n",
    "### Factors Affecting Power:\n",
    "- **Alpha (α)**: The significance level.lower alpha lower power and vice versa\n",
    "- **Sample Size**: Larger samples increase power.\n",
    "- **Effect Size**: Larger effect sizes make it easier to detect differences.\n",
    "\n",
    "We can visualize the power curve using `statsmodels`.\n"
   ]
  },
  {
   "cell_type": "code",
   "execution_count": 17,
   "id": "d7dc26e0",
   "metadata": {},
   "outputs": [
    {
     "data": {
      "image/png": "[encoded data removed]",
      "text/plain": [
       "<Figure size 720x432 with 1 Axes>"
      ]
     },
     "metadata": {
      "needs_background": "light"
     },
     "output_type": "display_data"
    }
   ],
   "source": [
    "# Plot power curves for different effect sizes\n",
    "# import matplotlib.pyplot as plt\n",
    "# from statsmodels.stats.power import TTestIndPower, TTestPower\n",
    "power_analysis = TTestIndPower()#This initializes the TTestIndPower class, which is used to compute statistical power for a two-sample independent t-test (e.g., comparing two groups). The class provides methods to calculate power, effect size, sample size, and more.\n",
    "effect_sizes = [0.2, 0.5, 0.8]\n",
    "\n",
    "plt.figure(figsize=(10, 6))\n",
    "\n",
    "nobs_range = np.arange(5, 500)\n",
    "\n",
    "for es in effect_sizes:\n",
    "    power = [power_analysis.solve_power(effect_size=es, nobs1=n, alpha=0.05) for n in nobs_range]\n",
    "    plt.plot(nobs_range, power, label=f'Effect Size: {es}')\n",
    "\n",
    "plt.title(\"Power Curves for Different Effect Sizes\")\n",
    "plt.xlabel(\"Sample Size\")\n",
    "plt.ylabel(\"Power\")\n",
    "plt.ylim(0, 1)\n",
    "plt.axhline(y=0.8, color='r', linestyle='--', label='Power = 0.8')\n",
    "plt.legend()\n",
    "plt.grid()\n",
    "plt.show()\n"
   ]
  },
  {
   "cell_type": "markdown",
   "id": "c69e53a6",
   "metadata": {},
   "source": [
    "## Interpretation of the Power Curves\n",
    "\n",
    "### Understanding Power\n",
    "Power is the probability of correctly rejecting a false null hypothesis (avoiding a Type II error). A higher power (close to 1) indicates a greater likelihood of detecting an effect when one exists.\n",
    "\n",
    "### Effect of Sample Size\n",
    "- As expected, the curves show that increasing sample size leads to an increase in power for all effect sizes.\n",
    "- For a given effect size, larger sample sizes provide more reliable estimates and increase the likelihood of detecting true effects.\n",
    "\n",
    "### Comparison of Effect Sizes\n",
    "The power curves illustrate that:\n",
    "- A small effect size (0.2) requires a much larger sample size to achieve a power of 0.8 compared to medium (0.5) and large (0.8) effect sizes.\n",
    "- Medium and large effect sizes achieve a power of 0.8 with fewer samples.\n",
    "\n",
    "These observations highlight the importance of considering both effect size and sample size when designing experiments to ensure that the study is adequately powered to detect meaningful differences."
   ]
  },
  {
   "cell_type": "markdown",
   "id": "64a75118",
   "metadata": {},
   "source": [
    "\n",
    "## 5. Ethical Considerations in A/B Testing\n",
    "\n",
    "When conducting A/B tests, especially with real users, it is important to consider ethics. \n",
    "\n",
    "### Key Ethical Concerns:\n",
    "1. **Informed Consent**: Participants must be aware of the test.\n",
    "2. **Assessment of Risks and Benefits**: Weigh potential risks against benefits.\n",
    "3. **Fair Selection of Subjects**: Avoid targeting vulnerable populations.\n",
    "\n",
    "Example: The Facebook \"emotional contagion\" study was criticized for manipulating users' emotions without their consent.\n"
   ]
  }
 ],
 "metadata": {
  "kernelspec": {
   "display_name": "learn-env",
   "language": "python",
   "name": "python3"
  },
  "language_info": {
   "codemirror_mode": {
    "name": "ipython",
    "version": 3
   },
   "file_extension": ".py",
   "mimetype": "text/x-python",
   "name": "python",
   "nbconvert_exporter": "python",
   "pygments_lexer": "ipython3",
   "version": "3.8.5"
  }
 },
 "nbformat": 4,
 "nbformat_minor": 5
}

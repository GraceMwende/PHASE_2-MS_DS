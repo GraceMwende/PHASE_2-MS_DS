{
  "cells": [
    {
      "cell_type": "markdown",
      "metadata": {
        "id": "PrJLc-q-VaqY"
      },
      "source": [
        "# Simple Linear Regression from Scratch\n",
        "\n",
        "## Introduction\n",
        "\n",
        "In this notebook, you'll get some hands-on practice developing a simple linear regression model. In practice, you would typically use a code library rather than writing linear regression code from scratch, but this is an exercise designed to help you see what is happening \"under the hood\".\n",
        "\n",
        "## Objectives\n",
        "\n",
        "You will be able to:\n",
        "\n",
        "* Perform a linear regression using self-constructed functions\n",
        "* Interpret the parameters of a simple linear regression model in relation to what they signify for specific data"
      ]
    },
    {
      "cell_type": "markdown",
      "metadata": {
        "id": "A0ChuGj_Vaqa"
      },
      "source": [
        "## Simple Linear Regression Recap\n",
        "\n",
        "Remember that the ***data*** for a simple linear regression consists of $y$ (the _dependent_ variable) and $x$ (the _independent_ variable). Then the model ***parameters*** are the slope of the line, denoted as $m$ or $\\beta_1$, and the intercept ($y$ value of the line when $x$ is 0), denoted as $c$ or $\\beta_0$.\n",
        "\n",
        "Thus the overall model notation is\n",
        "\n",
        "$$y=mx+c$$\n",
        "\n",
        "or, alternatively\n",
        "\n",
        "$$y = \\beta_0+ \\beta_1 x $$\n",
        "\n",
        "In the example below, $c$ is equal to 15 and $m$ is equal to 3.\n",
        "\n",
        "In other words, the overall equation is $y=3x+15$.\n",
        "\n",
        "<img src=\"images/linregall.png\" width=\"650\">"
      ]
    },
    {
      "cell_type": "markdown",
      "metadata": {
        "id": "-RQaHGUKVaqb"
      },
      "source": [
        "## Finding Model Parameters\n",
        "\n",
        "If you think back to the basic algebra formulas, you might remember that slope can be calculated between two points by finding the change in y over the change in x, i.e. $\\Delta y / \\Delta x$. But now you are dealing with messy data rather than perfect abstractions, so your regression line is not going to represent the relationship perfectly (i.e. there is going to be some amount of _error_). The question is how to find the ***best fit*** line, rather than just calculating $\\Delta y / \\Delta x$.\n",
        "\n",
        "Because these are ***estimations***, we'll use the \"hat\" notation for the variables, i.e.\n",
        "\n",
        "$$\\hat{y} = \\hat{m} x + \\hat{c}$$\n",
        "\n",
        "or\n",
        "\n",
        "$$\\hat{y} = \\hat{\\beta_0} + \\hat{\\beta_1} x $$\n",
        "\n",
        "Everything in these equations represented with a \"hat\" (e.g. $\\hat{y}$ rather than just $y$) means that it is an estimate or an approximation. The only part that is not using this notation is $x$, because we have the actual data values for the independent variable.\n",
        "\n",
        "So, how do you find the line with the best fit? You may think that you have to try lots and lots of different lines to see which one fits best. Fortunately, this task is not as complicated as it may seem. Given some data points, **the best-fit line always has a distinct slope and y-intercept that can be calculated using simple linear algebraic approaches**."
      ]
    },
    {
      "cell_type": "markdown",
      "metadata": {
        "id": "EXtsGUMFVaqc"
      },
      "source": [
        "### The Least-Squares Method\n",
        "\n",
        "We can calculate $\\hat{m}$ (the slope of the best-fit line) using this formula:\n",
        "\n",
        "$$\\hat{m} = \\rho \\frac{S_y}{S_x}$$\n",
        "\n",
        "Breaking down those components, we have:\n",
        "\n",
        "* $\\hat{m}$: the estimated slope\n",
        "* $\\rho$: the Pearson correlation, represented by the Greek letter \"Rho\"\n",
        "* $S_y$: the standard deviation of the y values\n",
        "* $S_x$: the standard deviation of the x values\n",
        "\n",
        "(You can visit [this Wikipedia link](https://en.wikipedia.org/wiki/Simple_linear_regression#Fitting_the_regression_line) to get take a look into the math behind the derivation of this formula.)\n",
        "\n",
        "Then once we have the slope value ($\\hat{m}$), we can put it back into our formula $(\\hat{y} = \\hat{m} x + \\hat{c})$ to calculate the intercept. The idea is that\n",
        "\n",
        "$$\\bar{y} = \\hat{c} + \\hat{m} \\bar{x}$$\n",
        "\n",
        "so\n",
        "\n",
        "$$\\hat{c} = \\bar{y} - \\hat{m} \\bar{x}$$\n",
        "\n",
        "Breaking down those components, we have:\n",
        "\n",
        "* $\\hat{c}$: the estimated intercept\n",
        "* $\\bar{y}$: the mean of the y values\n",
        "* $\\hat{m}$: the estimated slope\n",
        "* $\\bar{x}$: the mean of the x values"
      ]
    },
    {
      "cell_type": "markdown",
      "metadata": {
        "id": "gj0Cl9zBVaqc"
      },
      "source": [
        "## Let's Get Started\n",
        "\n",
        "In the cell below, we import the necessary libraries and provide you with some toy data:"
      ]
    },
    {
      "cell_type": "code",
      "execution_count": 1,
      "metadata": {
        "id": "FPFUQ8LeVaqc"
      },
      "outputs": [],
      "source": [
        "# Run this cell without changes\n",
        "\n",
        "# import necessary libraries\n",
        "import numpy as np\n",
        "import matplotlib.pyplot as plt\n",
        "from matplotlib import style\n",
        "style.use('ggplot')\n",
        "\n",
        "# Initialize arrays X and Y with given values\n",
        "# X = Independent Variable\n",
        "X = np.array([1,2,3,4,5,6,8,8,9,10], dtype=np.float64)\n",
        "# Y = Dependent Variable\n",
        "Y = np.array([7,7,8,9,9,10,10,11,11,12], dtype=np.float64)"
      ]
    },
    {
      "cell_type": "markdown",
      "metadata": {
        "id": "Z6UUJ2IEVaqd"
      },
      "source": [
        "## Scatter Plot\n",
        "\n",
        "Before performing a linear regression analysis, it's a best practice to look at a scatter plot of the independent variable vs. the dependent variable. Linear regression is only appropriate if there is a linear relationship between them. In the cell below, create a quick scatter plot showing x vs. y.\n",
        "\n",
        "---\n",
        "\n",
        "<details>\n",
        "    <summary style=\"cursor: pointer\"><b>Solution code (click to reveal)</b></summary>\n",
        "    \n",
        "```python\n",
        "plt.scatter(X, Y);\n",
        "```\n",
        "    \n",
        "</details>"
      ]
    },
    {
      "cell_type": "code",
      "execution_count": 1,
      "metadata": {
        "id": "lu1BZUlWVaqd"
      },
      "outputs": [],
      "source": [
        "# Your code here\n"
      ]
    },
    {
      "cell_type": "markdown",
      "metadata": {
        "id": "N5AUWnOvVaqe"
      },
      "source": [
        "Based on the plot above, does linear regression analysis seem appropriate?\n",
        "\n",
        "---\n",
        "\n",
        "<details>\n",
        "    <summary style=\"cursor: pointer\"><b>Answer (click to reveal)</b></summary>\n",
        "    <p>Yes. The relationship is very linear but not perfectly linear</p>\n",
        "    <p>The best fit line should be able to explain this relationship with very low error</p>\n",
        "</details>"
      ]
    },
    {
      "cell_type": "code",
      "execution_count": null,
      "metadata": {
        "id": "krY-keEfVaqe"
      },
      "outputs": [],
      "source": [
        "# Your answer here\n"
      ]
    },
    {
      "cell_type": "markdown",
      "metadata": {
        "id": "jv02plBjVaqe"
      },
      "source": [
        "## Calculating the Slope\n",
        "\n",
        "Write a function `calc_slope` that returns $\\hat{m}$ for a given set of x and y data.\n",
        "\n",
        "The formula is:\n",
        "\n",
        "$$\\hat{m} = \\rho \\frac{S_y}{S_x}$$\n",
        "\n",
        "Remember that you can use NumPy methods to calculate correlation and standard deviation.\n",
        "\n",
        "---\n",
        "\n",
        "<details>\n",
        "    <summary style=\"cursor: pointer\"><b>Solution code (click to reveal)</b></summary>\n",
        "    \n",
        "```python\n",
        "def calc_slope(x_vals, y_vals):\n",
        "    # setting up components of formula\n",
        "    rho = np.corrcoef(x_vals, y_vals)[0][1]\n",
        "    s_y = y_vals.std()\n",
        "    s_x = x_vals.std()\n",
        "    \n",
        "    # calculating slope estimate\n",
        "    m = rho * s_y / s_x\n",
        "    return m\n",
        "```\n",
        "    \n",
        "</details>"
      ]
    },
    {
      "cell_type": "code",
      "execution_count": 4,
      "metadata": {
        "colab": {
          "base_uri": "https://localhost:8080/"
        },
        "id": "Ts9JkeAlVaqe",
        "outputId": "bdaa8719-85c2-431c-b993-ae21001fa502"
      },
      "outputs": [
        {
          "output_type": "execute_result",
          "data": {
            "text/plain": [
              "0.5393518518518519"
            ]
          },
          "metadata": {},
          "execution_count": 4
        }
      ],
      "source": [
        "def calc_slope(x_vals, y_vals):\n",
        "    # Your code here\n",
        "\n",
        "m = calc_slope(X,Y)\n",
        "m # should produce approximately 0.539"
      ]
    },
    {
      "cell_type": "markdown",
      "metadata": {
        "id": "E22Cnn6iVaqf"
      },
      "source": [
        "## Calculating the Intercept\n",
        "\n",
        "Now that we have our estimated slope $\\hat{m}$, we can calculate the estimated intercept $\\hat{c}$.\n",
        "\n",
        "As a reminder, the calculation for the best-fit line's y-intercept is:\n",
        "\n",
        "$$\\hat{c} = \\bar{y} - \\hat{m} \\bar{x}$$\n",
        "\n",
        "Write a function `calc_intercept` that returns $\\hat{c}$ for a given $\\hat{m}$, x, and y.\n",
        "\n",
        "---\n",
        "\n",
        "<details>\n",
        "    <summary style=\"cursor: pointer\"><b>Solution code (click to reveal)</b></summary>\n",
        "    \n",
        "```python\n",
        "def calc_intercept(m, x_vals, y_vals):\n",
        "    # setting up components of formula\n",
        "    y_mean = y_vals.mean()\n",
        "    x_mean = x_vals.mean()\n",
        "    \n",
        "    # calculating intercept estimate\n",
        "    c = y_mean - m * x_mean\n",
        "    return c\n",
        "```\n",
        "    \n",
        "</details>"
      ]
    },
    {
      "cell_type": "code",
      "execution_count": null,
      "metadata": {
        "id": "rQZWDtQtVaqf"
      },
      "outputs": [],
      "source": [
        "def calc_intercept(m, x_vals, y_vals):\n",
        "    # Your code here\n",
        "\n",
        "c = calc_intercept(m, X, Y)\n",
        "c # should produce approximately 6.38"
      ]
    },
    {
      "cell_type": "markdown",
      "metadata": {
        "id": "095JS7z8Vaqf"
      },
      "source": [
        "## Predicting a New Data Point\n",
        "\n",
        "So, how might you go about actually making a prediction based on this model you just made?\n",
        "\n",
        "Now that we have a working model with $\\hat{m}$ and $\\hat{c}$ as model parameters, we can fill in a value of x with these parameters to identify a corresponding value of $\\hat{y}$ according to our model. Recall the formula:\n",
        "\n",
        "$$\\hat{y} = \\hat{m}x + \\hat{c}$$\n",
        "\n",
        "Let's try to find a y prediction for a new value of $x = 7$.\n",
        "\n",
        "---\n",
        "\n",
        "<details>\n",
        "    <summary style=\"cursor: pointer\"><b>Solution code (click to reveal)</b></summary>\n",
        "    \n",
        "```python\n",
        "y_predicted = m * x_new + c\n",
        "```\n",
        "    \n",
        "</details>"
      ]
    },
    {
      "cell_type": "code",
      "execution_count": null,
      "metadata": {
        "id": "fA4IZGrfVaqf"
      },
      "outputs": [],
      "source": [
        "# Replace None with appropriate code\n",
        "x_new = 7\n",
        "y_predicted = None\n",
        "y_predicted # should be about 10.155"
      ]
    },
    {
      "cell_type": "markdown",
      "metadata": {
        "id": "35sbeOlSVaqf"
      },
      "source": [
        "## Bringing It All Together\n",
        "\n",
        "Write a function `best_fit` that takes in x and y values, calculates and prints the coefficient and intercept, and plots the original data points along with the best fit line. Be sure to reuse the functions we have already written!\n",
        "\n",
        "---\n",
        "\n",
        "<details>\n",
        "    <summary style=\"cursor: pointer\"><b>Solution code (click to reveal)</b></summary>\n",
        "    \n",
        "```python\n",
        "def best_fit(x_vals, y_vals):\n",
        "    # Create a scatter plot of x vs. y\n",
        "    fig, ax = plt.subplots()\n",
        "    ax.scatter(x_vals, y_vals, color='#003F72', label=\"Data points\")\n",
        "\n",
        "    # Calculate coefficient and intercept\n",
        "    m = calc_slope(x_vals, y_vals)\n",
        "    c = calc_intercept(m, x_vals, y_vals)\n",
        "    \n",
        "    # Plot line created by coefficient and intercept\n",
        "    regression_line = m * x_vals + c\n",
        "    ax.plot(x_vals, regression_line, label= \"Regression Line\")\n",
        "    ax.legend()\n",
        "```\n",
        "    \n",
        "</details>"
      ]
    },
    {
      "cell_type": "code",
      "execution_count": 5,
      "metadata": {
        "colab": {
          "base_uri": "https://localhost:8080/",
          "height": 430
        },
        "id": "3MSTOz5oVaqg",
        "outputId": "079af152-ceef-48e2-c8dc-e53aa5b217cc"
      },
      "outputs": [
        {
          "output_type": "display_data",
          "data": {
            "text/plain": [
              "<Figure size 640x480 with 1 Axes>"
            ],
            "image/png": "[encoded data removed]"
          },
          "metadata": {}
        }
      ],
      "source": [
        "def best_fit(x_vals, y_vals):\n",
        "    # Create a scatter plot of x vs. y\n",
        "\n",
        "    # Calculate and print coefficient and intercept\n",
        "\n",
        "    # Plot line created by coefficient and intercept\n",
        "\n",
        "best_fit(X, Y)"
      ]
    },
    {
      "cell_type": "markdown",
      "metadata": {
        "id": "3pMQM8mvVaqg"
      },
      "source": [
        "So there we have it, our least squares regression line. This is the best fit line and does describe the data pretty well (still not perfect though).\n",
        "\n",
        "## Describe your Model Mathematically and in Words\n",
        "\n",
        "What is the overall formula of the model you have created? How would you describe the slope and intercept, and what do they say about the relationship between x and y?\n",
        "\n",
        "---\n",
        "\n",
        "<details>\n",
        "    <summary style=\"cursor: pointer\"><b>Answer (click to reveal)</b></summary>\n",
        "    \n",
        "The overall formula is $y = 0.53x + 6.37$.\n",
        "    \n",
        "The intercept (where the line crosses the y-axis) is at 6.37. This means that if x is equal to 0, the value of y would be 6.37.\n",
        "    \n",
        "The slope of the line is 0.53. This means that every increase of 1 in the value of x is associated with an increase of 0.53 in the value of y.\n",
        "\n",
        "</details>"
      ]
    },
    {
      "cell_type": "code",
      "execution_count": null,
      "metadata": {
        "id": "v5rSfxjrVaqg"
      },
      "outputs": [],
      "source": [
        "# Your answer here\n",
        "\n",
        "\n"
      ]
    },
    {
      "cell_type": "markdown",
      "metadata": {
        "id": "q_EQJYbYVaqg"
      },
      "source": [
        "## Summary\n",
        "\n",
        "In this lesson, you learned how to perform linear regression from scratch using NumPy methods. You first calculated the slope and intercept parameters of the regression line that best fit the data. You then used the regression line parameters to predict the value ($\\hat y$-value) of a previously unseen feature ($x$-value). You finally plotted your model against the original dataset."
      ]
    }
  ],
  "metadata": {
    "kernelspec": {
      "display_name": "Python (learn-env)",
      "language": "python",
      "name": "learn-env"
    },
    "language_info": {
      "codemirror_mode": {
        "name": "ipython",
        "version": 3
      },
      "file_extension": ".py",
      "mimetype": "text/x-python",
      "name": "python",
      "nbconvert_exporter": "python",
      "pygments_lexer": "ipython3",
      "version": "3.8.5"
    },
    "colab": {
      "provenance": []
    }
  },
  "nbformat": 4,
  "nbformat_minor": 0
}
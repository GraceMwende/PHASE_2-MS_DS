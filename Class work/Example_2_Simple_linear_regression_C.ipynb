{
  "cells": [
    {
      "cell_type": "markdown",
      "metadata": {
        "id": "Xlb5EhkhdEQt"
      },
      "source": [
        "# Linear Regression in StatsModels\n",
        "\n",
        "## Introduction\n",
        "\n",
        "So far, you learned how linear regression and R-Squared (coefficient of determination) work \"under the hood\" and created your own versions using NumPy.\n",
        "\n",
        "Going forward, you're going to use a Python library called StatsModels to do the modeling and evaluation work for you!\n",
        "\n",
        "\n",
        "## Objectives\n",
        "\n",
        "You will be able to:\n",
        "\n",
        "* Perform a linear regression using StatsModels\n",
        "* Evaluate a linear regression model using StatsModels\n",
        "* Interpret linear regression model coefficients using StatsModels"
      ]
    },
    {
      "cell_type": "markdown",
      "metadata": {
        "id": "swAHGSlVdEQy"
      },
      "source": [
        "## What is StatsModels?\n",
        "\n",
        "StatsModels is a powerful Python package for many types of statistical analyses. In particular, as you may have guessed from the name, StatsModels emphasizes statistical _modeling_, particular linear models and time series analysis. You can check out the [User Guide](https://www.statsmodels.org/stable/user-guide.html) for an overview of all of the available models.\n",
        "\n",
        "![StatsModels logo](images/sm1.png)\n",
        "\n",
        "When using StatsModels, we'll need to introduce one more set of terminology: ***endogenous*** and ***exogenous*** variables. You'll see these as argument names `endog` and `exog` in the [documentation](https://www.statsmodels.org/stable/generated/statsmodels.regression.linear_model.OLS.html) for the models, including `OLS` (ordinary least squares linear regression). These are simply the names used by StatsModels for the independent and dependent variables.\n",
        "\n",
        "This table is drawn from the [StatsModels documentation](https://www.statsmodels.org/stable/endog_exog.html):\n",
        "\n",
        "| `endog`            | `exog`               |\n",
        "| ------------------ | -------------------- |\n",
        "| $y$                | $x$                  |\n",
        "| dependent variable | independent variable |\n",
        "| response variable  | explanatory variable |"
      ]
    },
    {
      "cell_type": "markdown",
      "metadata": {
        "id": "qvBXW5JqdEQ0"
      },
      "source": [
        "## Importing Necessary Libraries\n",
        "\n",
        "Most of the import statements below should already be familiar. The one new import statement is\n",
        "\n",
        "```python\n",
        "import statsmodels.api as sm\n",
        "```\n",
        "\n",
        "Going forward, `sm` refers to StatsModels."
      ]
    },
    {
      "cell_type": "code",
      "execution_count": 2,
      "metadata": {
        "id": "sHlkn3fkdEQ1"
      },
      "outputs": [
        {
          "name": "stderr",
          "output_type": "stream",
          "text": [
            "c:\\Users\\Gmwende\\anaconda3\\envs\\learn-env\\lib\\site-packages\\scipy\\__init__.py:138: UserWarning: A NumPy version >=1.16.5 and <1.23.0 is required for this version of SciPy (detected version 1.23.0)\n",
            "  warnings.warn(f\"A NumPy version >={np_minversion} and <{np_maxversion} is required for this version of \"\n",
            "c:\\Users\\Gmwende\\anaconda3\\envs\\learn-env\\lib\\site-packages\\statsmodels\\tsa\\base\\tsa_model.py:7: FutureWarning: pandas.Int64Index is deprecated and will be removed from pandas in a future version. Use pandas.Index with the appropriate dtype instead.\n",
            "  from pandas import (to_datetime, Int64Index, DatetimeIndex, Period,\n",
            "c:\\Users\\Gmwende\\anaconda3\\envs\\learn-env\\lib\\site-packages\\statsmodels\\tsa\\base\\tsa_model.py:7: FutureWarning: pandas.Float64Index is deprecated and will be removed from pandas in a future version. Use pandas.Index with the appropriate dtype instead.\n",
            "  from pandas import (to_datetime, Int64Index, DatetimeIndex, Period,\n"
          ]
        }
      ],
      "source": [
        "import matplotlib.pyplot as plt\n",
        "plt.style.use('seaborn-whitegrid')\n",
        "import numpy as np\n",
        "import pandas as pd\n",
        "import scipy.stats as stats\n",
        "import seaborn as sns\n",
        "import statsmodels.api as sm\n",
        "\n",
        "import warnings\n",
        "warnings.filterwarnings('ignore')"
      ]
    },
    {
      "cell_type": "markdown",
      "metadata": {
        "id": "yA5BP7cSdEQ3"
      },
      "source": [
        "## Loading the Data\n",
        "\n",
        "Let's load a simple dataset for the purpose of understanding the process.\n",
        "\n",
        "The dataset contains weight and height, and we'll set height as the independent variable (x) and weight as the dependent variable.\n",
        "\n",
        "We'll start out by plotting them against each other in a scatter plot:"
      ]
    },
    {
      "cell_type": "code",
      "execution_count": 3,
      "metadata": {
        "id": "D9JHWdBddEQ3"
      },
      "outputs": [],
      "source": [
        "df = pd.read_csv('weight-height.csv')\n"
      ]
    },
    {
      "cell_type": "code",
      "execution_count": 4,
      "metadata": {},
      "outputs": [
        {
          "data": {
            "text/plain": [
              "<AxesSubplot:xlabel='Height', ylabel='Weight'>"
            ]
          },
          "execution_count": 4,
          "metadata": {},
          "output_type": "execute_result"
        },
        {
          "data": {
            "image/png": "[encoded data removed]",
            "text/plain": [
              "<Figure size 432x288 with 1 Axes>"
            ]
          },
          "metadata": {},
          "output_type": "display_data"
        }
      ],
      "source": [
        "df.head()\n",
        "df.plot.scatter('Height','Weight')"
      ]
    },
    {
      "cell_type": "markdown",
      "metadata": {
        "id": "G1qSMHMAdEQ5"
      },
      "source": [
        "Looks like a linear relationship!\n",
        "\n",
        "## Building Our Linear Regression\n",
        "\n",
        "One way to build a linear regression would be by hand, calculating $\\hat{m}$ and $\\hat{c}$ with the least-squares formula:"
      ]
    },
    {
      "cell_type": "code",
      "execution_count": 21,
      "metadata": {
        "id": "TJwFP0yJdEQ6"
      },
      "outputs": [
        {
          "name": "stdout",
          "output_type": "stream",
          "text": [
            "Our regression line is: y = 7.71729x + -350.73719\n"
          ]
        }
      ],
      "source": [
        "rho = np.corrcoef(df['Height'],df['Weight'])[0,1]\n",
        "s_y =  np.std(df['Weight'])\n",
        "s_x = np.std(df['Height'])\n",
        "m = rho * (s_y / s_x)\n",
        "\n",
        "mean_y = df['Weight'].mean()\n",
        "mean_x = df['Height'].mean()\n",
        "c = mean_y - m * (mean_x)\n",
        "\n",
        "y_predict = m * mean_x +c\n",
        "print(f'Our regression line is: y = {round(m,5)}x + {round(c,5)}')"
      ]
    },
    {
      "cell_type": "markdown",
      "metadata": {
        "id": "nSRVgSTMdEQ7"
      },
      "source": [
        "That works, in a way. But now if we wanted to calculate the F-statistic, or R-Squared, or find the confidence intervals for the parameters, that would be a lot of additional calculations.\n",
        "\n",
        "If we use StatsModels instead, all of the calculations are done for us! We just have to set up the appropriate x and y variables and plug them into a model.\n",
        "\n",
        "### Determining `X` and `y` Variables\n",
        "\n",
        "Technically you can subset a pandas dataframe in the same line where you create the model, but it tends to be easier if you specify your variables first."
      ]
    },
    {
      "cell_type": "code",
      "execution_count": 13,
      "metadata": {
        "id": "yMS3dCmLdEQ7"
      },
      "outputs": [],
      "source": [
        "X = df[['Height']]\n",
        "y = df['Weight']"
      ]
    },
    {
      "cell_type": "markdown",
      "metadata": {
        "id": "eoViqyVZdEQ8"
      },
      "source": [
        "You might notice that `X` is capitalized and `y` is not. This is not a mistake! The idea is to indicate that `X` is a 2D matrix, and `y` is a 1D array. Currently `X` only has one value in it (height) but this will change when we get to multiple regression.\n",
        "\n",
        "### Creating the Model\n",
        "\n",
        "With StatsModels, the \"model\" is the result of calling the `OLS` constructor function.\n",
        "\n",
        "We will also use the `add_constant` method because StatsModels expects a column of constant values if there should be a constant in the resulting regression."
      ]
    },
    {
      "cell_type": "code",
      "execution_count": 14,
      "metadata": {
        "colab": {
          "base_uri": "https://localhost:8080/"
        },
        "id": "1OynKMfFdEQ9",
        "outputId": "c9d81702-b3eb-4828-deb9-9386809e30e8"
      },
      "outputs": [
        {
          "data": {
            "text/plain": [
              "<statsmodels.regression.linear_model.OLS at 0x2b8e4ae0280>"
            ]
          },
          "execution_count": 14,
          "metadata": {},
          "output_type": "execute_result"
        }
      ],
      "source": [
        "model = sm.OLS(endog=y,exog=sm.add_constant(X))\n",
        "model"
      ]
    },
    {
      "cell_type": "markdown",
      "metadata": {
        "id": "oTUI82zpdEQ9"
      },
      "source": [
        "### Fitting the Model\n",
        "\n",
        "Once we have a model, we call the `fit` method, which returns a results object."
      ]
    },
    {
      "cell_type": "code",
      "execution_count": 15,
      "metadata": {
        "colab": {
          "base_uri": "https://localhost:8080/"
        },
        "id": "T4xP6E7XdEQ-",
        "outputId": "2c1678a9-3bd9-4004-f00a-ed9771903de9"
      },
      "outputs": [
        {
          "data": {
            "text/plain": [
              "<statsmodels.regression.linear_model.RegressionResultsWrapper at 0x2b8d01f73a0>"
            ]
          },
          "execution_count": 15,
          "metadata": {},
          "output_type": "execute_result"
        }
      ],
      "source": [
        "results = model.fit()\n",
        "results"
      ]
    },
    {
      "cell_type": "markdown",
      "metadata": {
        "id": "iQ9TaMundEQ-"
      },
      "source": [
        "### Evaluating and Interpreting the Model\n",
        "\n",
        "Now we can get all kinds of different information out of the model results!"
      ]
    },
    {
      "cell_type": "markdown",
      "metadata": {
        "id": "ZCXY0U0QdEQ_"
      },
      "source": [
        "***F-statistic and F-statistic p-value***"
      ]
    },
    {
      "cell_type": "code",
      "execution_count": 16,
      "metadata": {
        "colab": {
          "base_uri": "https://localhost:8080/"
        },
        "id": "GczJwP_VdEQ_",
        "outputId": "70e4060b-176b-4917-bcbf-6d079509559e"
      },
      "outputs": [
        {
          "data": {
            "text/plain": [
              "(59036.666700455455, 0.0)"
            ]
          },
          "execution_count": 16,
          "metadata": {},
          "output_type": "execute_result"
        }
      ],
      "source": [
        "results.fvalue, results.f_pvalue"
      ]
    },
    {
      "cell_type": "markdown",
      "metadata": {
        "id": "9rFJBowDdEQ_"
      },
      "source": [
        "**Interpretation:** Our model is statistically significant, with a p-value well below the standard alpha of 0.05\n",
        "\n",
        "An R-squared value closer to 1 indicates that the model provides a good fit to the data.\n",
        "\n",
        "In this case, the model does a solid job of explaining most of the variance, though there is still 14.5% of the variance that is unexplained by the model (due to other factors not included in the model)\n",
        "\n",
        "\n",
        "\n",
        "***R-Squared*** (coefficient of determination):"
      ]
    },
    {
      "cell_type": "code",
      "execution_count": 19,
      "metadata": {
        "colab": {
          "base_uri": "https://localhost:8080/"
        },
        "id": "iesLnDqOdERA",
        "outputId": "f3498316-66e7-4078-8e99-2c538c825886"
      },
      "outputs": [
        {
          "data": {
            "text/plain": [
              "0.8551742120609958"
            ]
          },
          "execution_count": 19,
          "metadata": {},
          "output_type": "execute_result"
        }
      ],
      "source": [
        "results.rsquared"
      ]
    },
    {
      "cell_type": "markdown",
      "metadata": {
        "id": "aSZJPsfCdERA"
      },
      "source": [
        "**Interpretation:** Our model R-squared: 0.855 means the model explains 85.5% of the variance in the dependent variable.\n",
        "\n",
        "\n",
        "***Model parameters:***"
      ]
    },
    {
      "cell_type": "code",
      "execution_count": 20,
      "metadata": {
        "colab": {
          "base_uri": "https://localhost:8080/",
          "height": 146
        },
        "id": "nqGz1QlNdERA",
        "outputId": "5bd4ea8a-a089-4ec1-b80b-3acea3077f8a"
      },
      "outputs": [
        {
          "data": {
            "text/plain": [
              "const    -350.737192\n",
              "Height      7.717288\n",
              "dtype: float64"
            ]
          },
          "execution_count": 20,
          "metadata": {},
          "output_type": "execute_result"
        }
      ],
      "source": [
        "results.params\n"
      ]
    },
    {
      "cell_type": "markdown",
      "metadata": {
        "id": "lU8CmvRSdERB"
      },
      "source": [
        "**Interpretation:** For a height of 0, our model would predict a weight of about -204.5. An increase of 1 in height is associated with an increase of about 5.5 in weight.\n",
        "\n",
        "Notes:\n",
        "\n",
        "1. These are the same values we got from our \"by hand\" regression earlier! `m` corresponds to `height` in this output, and `c` corresponds to `const`\n",
        "2. Intercept values are often nonsensical if a value of 0 in the independent variable is nonsensical. So don't worry too much about making sense of what a height of -204.5 for a weight of 0 means\n",
        "\n",
        "***Model parameter p-values:***"
      ]
    },
    {
      "cell_type": "code",
      "execution_count": 22,
      "metadata": {
        "id": "w2avt9QrdERB"
      },
      "outputs": [
        {
          "data": {
            "text/plain": [
              "const     0.0\n",
              "Height    0.0\n",
              "dtype: float64"
            ]
          },
          "execution_count": 22,
          "metadata": {},
          "output_type": "execute_result"
        }
      ],
      "source": [
        "results.pvalues"
      ]
    },
    {
      "cell_type": "markdown",
      "metadata": {
        "id": "4GBoSgmXdERC"
      },
      "source": [
        "**Interpretation:** Both of our model parameters (coefficient for `height` and intercept) are statistically significant, with p-values well below the standard alpha of 0.05.\n",
        "\n",
        "***Model parameter confidence intervals:***"
      ]
    },
    {
      "cell_type": "code",
      "execution_count": 24,
      "metadata": {
        "colab": {
          "base_uri": "https://localhost:8080/"
        },
        "id": "0_yKTNubdERC",
        "outputId": "e6a2ee28-78d6-4d83-8742-25b695399320"
      },
      "outputs": [
        {
          "data": {
            "text/html": [
              "<div>\n",
              "<style scoped>\n",
              "    .dataframe tbody tr th:only-of-type {\n",
              "        vertical-align: middle;\n",
              "    }\n",
              "\n",
              "    .dataframe tbody tr th {\n",
              "        vertical-align: top;\n",
              "    }\n",
              "\n",
              "    .dataframe thead th {\n",
              "        text-align: right;\n",
              "    }\n",
              "</style>\n",
              "<table border=\"1\" class=\"dataframe\">\n",
              "  <thead>\n",
              "    <tr style=\"text-align: right;\">\n",
              "      <th></th>\n",
              "      <th>0</th>\n",
              "      <th>1</th>\n",
              "    </tr>\n",
              "  </thead>\n",
              "  <tbody>\n",
              "    <tr>\n",
              "      <th>const</th>\n",
              "      <td>-354.876129</td>\n",
              "      <td>-346.598255</td>\n",
              "    </tr>\n",
              "    <tr>\n",
              "      <th>Height</th>\n",
              "      <td>7.655028</td>\n",
              "      <td>7.779547</td>\n",
              "    </tr>\n",
              "  </tbody>\n",
              "</table>\n",
              "</div>"
            ],
            "text/plain": [
              "                 0           1\n",
              "const  -354.876129 -346.598255\n",
              "Height    7.655028    7.779547"
            ]
          },
          "execution_count": 24,
          "metadata": {},
          "output_type": "execute_result"
        }
      ],
      "source": [
        "results.conf_int()"
      ]
    },
    {
      "cell_type": "markdown",
      "metadata": {
        "id": "R83EX3tRdERC"
      },
      "source": [
        "**Interpretation:**\n",
        "our 85% confidence interval for the intercept is about -354.88 to about -346.6.Our 85 %confidence interval of height is about 7.7 to about 6.1"
      ]
    },
    {
      "cell_type": "markdown",
      "metadata": {
        "id": "q7CZCqUddERD"
      },
      "source": [
        "## The Results Summary\n",
        "\n",
        "Instead of extracting these individual values from the results object, there is also a method `summary` that will print out all of this information at once. It can get overwhelming, but take a look and see if you can find all of the information extracted above:\n",
        "\n",
        "* F-statistic and F-statistic p-value\n",
        "* R-Squared (coefficient of determination)\n",
        "* Parameters\n",
        "* Parameter p-values\n",
        "* Parameter confidence intervals\n",
        "\n",
        "---\n",
        "\n",
        "<details>\n",
        "    <summary style=\"cursor: pointer\"><b>Hints (click to reveal)</b></summary>\n",
        "    \n",
        "* F-statistic is located in the list on the upper right, `F-statistic:`\n",
        "* F-statistic p-value is located in the list on the upper right, `Prob (F-statistic):`\n",
        "* R-Squared (coefficient of determination) is located in the list on the upper right, `R-squared:`\n",
        "* Parameters are in the middle, with the names (`const` and `height`) on the left\n",
        "  * Their coefficients are listed under `coef`\n",
        "  * Their p-values are listed under `P>|t|` (note that they appear as 0.000 due to rounding)\n",
        "  * Their confidence intervals have the lower bound listed under `[0.025` and the upper bound listed under `0.975]`\n",
        "    \n",
        "</details>"
      ]
    },
    {
      "cell_type": "code",
      "execution_count": 25,
      "metadata": {
        "id": "-76Un9F7dERD",
        "outputId": "cea9764f-4eee-4023-cad1-90d0f66cdbfb"
      },
      "outputs": [
        {
          "name": "stdout",
          "output_type": "stream",
          "text": [
            "                            OLS Regression Results                            \n",
            "==============================================================================\n",
            "Dep. Variable:                 Weight   R-squared:                       0.855\n",
            "Model:                            OLS   Adj. R-squared:                  0.855\n",
            "Method:                 Least Squares   F-statistic:                 5.904e+04\n",
            "Date:                Tue, 15 Oct 2024   Prob (F-statistic):               0.00\n",
            "Time:                        23:46:12   Log-Likelihood:                -39219.\n",
            "No. Observations:               10000   AIC:                         7.844e+04\n",
            "Df Residuals:                    9998   BIC:                         7.846e+04\n",
            "Df Model:                           1                                         \n",
            "Covariance Type:            nonrobust                                         \n",
            "==============================================================================\n",
            "                 coef    std err          t      P>|t|      [0.025      0.975]\n",
            "------------------------------------------------------------------------------\n",
            "const       -350.7372      2.111   -166.109      0.000    -354.876    -346.598\n",
            "Height         7.7173      0.032    242.975      0.000       7.655       7.780\n",
            "==============================================================================\n",
            "Omnibus:                        2.141   Durbin-Watson:                   1.677\n",
            "Prob(Omnibus):                  0.343   Jarque-Bera (JB):                2.150\n",
            "Skew:                           0.036   Prob(JB):                        0.341\n",
            "Kurtosis:                       2.991   Cond. No.                     1.15e+03\n",
            "==============================================================================\n",
            "\n",
            "Notes:\n",
            "[1] Standard Errors assume that the covariance matrix of the errors is correctly specified.\n",
            "[2] The condition number is large, 1.15e+03. This might indicate that there are\n",
            "strong multicollinearity or other numerical problems.\n"
          ]
        }
      ],
      "source": [
        "print(results.summary())"
      ]
    },
    {
      "cell_type": "markdown",
      "metadata": {
        "id": "IHd9TJEudERD"
      },
      "source": [
        "You can also omit the `print` part to see a summary styled by the notebook. Different people may find the version above or below more readable; either are fine."
      ]
    },
    {
      "cell_type": "code",
      "execution_count": null,
      "metadata": {
        "id": "0GrU-03JdERE",
        "outputId": "e99ff687-3b5a-4f46-e847-7c9d1b2a569e"
      },
      "outputs": [
        {
          "data": {
            "text/html": [
              "<table class=\"simpletable\">\n",
              "<caption>OLS Regression Results</caption>\n",
              "<tr>\n",
              "  <th>Dep. Variable:</th>         <td>weight</td>      <th>  R-squared:         </th> <td>   0.955</td>\n",
              "</tr>\n",
              "<tr>\n",
              "  <th>Model:</th>                   <td>OLS</td>       <th>  Adj. R-squared:    </th> <td>   0.953</td>\n",
              "</tr>\n",
              "<tr>\n",
              "  <th>Method:</th>             <td>Least Squares</td>  <th>  F-statistic:       </th> <td>   384.8</td>\n",
              "</tr>\n",
              "<tr>\n",
              "  <th>Date:</th>             <td>Fri, 06 May 2022</td> <th>  Prob (F-statistic):</th> <td>1.35e-13</td>\n",
              "</tr>\n",
              "<tr>\n",
              "  <th>Time:</th>                 <td>15:24:18</td>     <th>  Log-Likelihood:    </th> <td> -64.112</td>\n",
              "</tr>\n",
              "<tr>\n",
              "  <th>No. Observations:</th>      <td>    20</td>      <th>  AIC:               </th> <td>   132.2</td>\n",
              "</tr>\n",
              "<tr>\n",
              "  <th>Df Residuals:</th>          <td>    18</td>      <th>  BIC:               </th> <td>   134.2</td>\n",
              "</tr>\n",
              "<tr>\n",
              "  <th>Df Model:</th>              <td>     1</td>      <th>                     </th>     <td> </td>   \n",
              "</tr>\n",
              "<tr>\n",
              "  <th>Covariance Type:</th>      <td>nonrobust</td>    <th>                     </th>     <td> </td>   \n",
              "</tr>\n",
              "</table>\n",
              "<table class=\"simpletable\">\n",
              "<tr>\n",
              "     <td></td>       <th>coef</th>     <th>std err</th>      <th>t</th>      <th>P>|t|</th>  <th>[0.025</th>    <th>0.975]</th>  \n",
              "</tr>\n",
              "<tr>\n",
              "  <th>const</th>  <td> -204.4834</td> <td>   18.929</td> <td>  -10.802</td> <td> 0.000</td> <td> -244.252</td> <td> -164.714</td>\n",
              "</tr>\n",
              "<tr>\n",
              "  <th>height</th> <td>    5.5390</td> <td>    0.282</td> <td>   19.616</td> <td> 0.000</td> <td>    4.946</td> <td>    6.132</td>\n",
              "</tr>\n",
              "</table>\n",
              "<table class=\"simpletable\">\n",
              "<tr>\n",
              "  <th>Omnibus:</th>       <td> 2.588</td> <th>  Durbin-Watson:     </th> <td>   2.053</td>\n",
              "</tr>\n",
              "<tr>\n",
              "  <th>Prob(Omnibus):</th> <td> 0.274</td> <th>  Jarque-Bera (JB):  </th> <td>   1.245</td>\n",
              "</tr>\n",
              "<tr>\n",
              "  <th>Skew:</th>          <td> 0.202</td> <th>  Prob(JB):          </th> <td>   0.537</td>\n",
              "</tr>\n",
              "<tr>\n",
              "  <th>Kurtosis:</th>      <td> 1.846</td> <th>  Cond. No.          </th> <td>    902.</td>\n",
              "</tr>\n",
              "</table><br/><br/>Notes:<br/>[1] Standard Errors assume that the covariance matrix of the errors is correctly specified."
            ],
            "text/plain": [
              "<class 'statsmodels.iolib.summary.Summary'>\n",
              "\"\"\"\n",
              "                            OLS Regression Results                            \n",
              "==============================================================================\n",
              "Dep. Variable:                 weight   R-squared:                       0.955\n",
              "Model:                            OLS   Adj. R-squared:                  0.953\n",
              "Method:                 Least Squares   F-statistic:                     384.8\n",
              "Date:                Fri, 06 May 2022   Prob (F-statistic):           1.35e-13\n",
              "Time:                        15:24:18   Log-Likelihood:                -64.112\n",
              "No. Observations:                  20   AIC:                             132.2\n",
              "Df Residuals:                      18   BIC:                             134.2\n",
              "Df Model:                           1                                         \n",
              "Covariance Type:            nonrobust                                         \n",
              "==============================================================================\n",
              "                 coef    std err          t      P>|t|      [0.025      0.975]\n",
              "------------------------------------------------------------------------------\n",
              "const       -204.4834     18.929    -10.802      0.000    -244.252    -164.714\n",
              "height         5.5390      0.282     19.616      0.000       4.946       6.132\n",
              "==============================================================================\n",
              "Omnibus:                        2.588   Durbin-Watson:                   2.053\n",
              "Prob(Omnibus):                  0.274   Jarque-Bera (JB):                1.245\n",
              "Skew:                           0.202   Prob(JB):                        0.537\n",
              "Kurtosis:                       1.846   Cond. No.                         902.\n",
              "==============================================================================\n",
              "\n",
              "Notes:\n",
              "[1] Standard Errors assume that the covariance matrix of the errors is correctly specified.\n",
              "\"\"\""
            ]
          },
          "execution_count": 13,
          "metadata": {},
          "output_type": "execute_result"
        }
      ],
      "source": [
        "results.summary()"
      ]
    },
    {
      "cell_type": "markdown",
      "metadata": {
        "id": "qAfaCW3IdERE"
      },
      "source": [
        "This summary contains a **lot** of information. If you're curious about all of the fields, feel free to expand the below explanation:\n",
        "\n",
        "---\n",
        "\n",
        "<details>\n",
        "    <summary style=\"cursor: pointer\"><b>Regression results explanation (click to expand)</b></summary>\n",
        "    \n",
        "The left part of the first table gives some specifics on the data and the model:\n",
        "\n",
        "* **Dep. Variable**: Singular. Which variable is the point of interest of the model\n",
        "* **Model**: Technique used, an abbreviated version of Method (see methods for more).\n",
        "* **Method**: The loss function optimized in the parameter selection process. Least Squares since it picks the parameters that reduce the training error. This is also known as Mean Squared Error (MSE).\n",
        "* **No. Observations**: The number of observations used by the model, or size of the training data.\n",
        "* **Df Residuals**: Degrees of freedom of the residuals, which is the number of observations minus the number of parameters. Intercept is a parameter. The purpose of Degrees of Freedom is to reflect the impact of descriptive/summarizing statistics in the model, which in regression is the coefficient. Since the observations must \"live up\" to these parameters, they only have so many free observations, and the rest must be reserved to \"live up\" to the parameters' prophecy. This internal mechanism ensures that there are enough observations to match the parameters.\n",
        "* **Df Model**: The number of parameters in the model (not including the constant/intercept term if present)\n",
        "* **Covariance Type**: Robust regression methods are designed to be not overly affected by violations of assumptions by the underlying data-generating process. Since this model is Ordinary Least Squares, it is non-robust and therefore highly sensitive to outliers.\n",
        "    \n",
        "The right part of the first table shows the goodness of fit:\n",
        "\n",
        "* **R-squared**: The coefficient of determination, the Explained Sum of Squares divided by Total Sum of Squares. This translates to the percent of variance explained by the model. The remaining percentage represents the variance explained by error, the E term, the part that model and predictors fail to grasp.\n",
        "* **Adj. R-squared**: Version of the R-Squared that penalizes additional independent variables.\n",
        "* **F-statistic**: A measure of how significant the fit is. The mean squared error of the model divided by the mean squared error of the residuals. Feeds into the calculation of the P-Value.\n",
        "* **Prob (F-statistic)**: The probability that a sample like this would yield the above statistic, and whether the model's verdict on the null hypothesis will consistently represent the population. Does not measure effect magnitude, instead measures the integrity and consistency of this test on this group of data.\n",
        "* **Log-likelihood**: The log of the likelihood function.\n",
        "* **AIC**: The Akaike Information Criterion. Adjusts the log-likelihood based on the number of observations and the complexity of the model. Penalizes the model selection metrics when more independent variables are added.\n",
        "* **BIC**: The Bayesian Information Criterion. Similar to the AIC, but has a higher penalty for models with more parameters. Penalizes the model selection metrics when more independent variables are added.\n",
        "\n",
        "The second table shows the coefficient report:\n",
        "\n",
        "* **coef**: The estimated value of the coefficient. By how much the model multiplies the independent value by.\n",
        "* **std err**: The basic standard error of the estimate of the coefficient. Average distance deviation of the points from the model, which offers a unit relevant way to gauge model accuracy.\n",
        "* **t**: The t-statistic value. This is a measure of how statistically significant the coefficient is.\n",
        "* **P > |t|**: P-value that the null-hypothesis that the coefficient = 0 is true. If it is less than the confidence level, often 0.05, it indicates that there is a statistically significant relationship between the term and the response.\n",
        "* **[95.0% Conf. Interval]**: The lower and upper values of the 95% confidence interval. Specific range of the possible coefficient values.\n",
        "\n",
        "The third table shows information about the residuals, autocorrelation, and multicollinearity:\n",
        "\n",
        "* **Skewness**: A measure of the symmetry of the data about the mean. Normally-distributed errors should be symmetrically distributed about the mean (equal amounts above and below the line). The normal distribution has 0 skew.\n",
        "* **Kurtosis**: A measure of the shape of the distribution. Compares the amount of data close to the mean with those far away from the mean (in the tails), so model \"peakiness\". The normal distribution has a Kurtosis of 3, and the greater the number, the more the curve peaks.\n",
        "* **Omnibus**: Provides a combined statistical test for the presence of skewness and kurtosis.\n",
        "* **Prob(Omnibus)**: The above statistic turned into a probability\n",
        "* **Jarque-Bera**: A different test of the skewness and kurtosis\n",
        "* **Prob (JB)**: The above statistic turned into a probability\n",
        "* **Durbin-Watson**: A test for the presence of autocorrelation (that the errors are not independent), which is often important in time-series analysis\n",
        "* **Cond. No**: A test for multicollinearity (if in a fit with multiple parameters, the parameters are related to each other).\n",
        "\n",
        "</details>"
      ]
    },
    {
      "cell_type": "markdown",
      "metadata": {
        "id": "8HFFMQ2idERE"
      },
      "source": [
        "## Visualizing Our Model\n",
        "\n",
        "### Plotting Fit\n",
        "\n",
        "StatsModels also comes with some plotting utilities that are particularly useful for statistical modeling. You can find the full list [here](https://www.statsmodels.org/stable/graphics.html#regression-plots).\n",
        "\n",
        "This method shows the scatter plot of actual values as well as points indicating the values predicted by the model. The black vertical lines represent the confidence intervals for each prediction. (These confidence intervals use the t-distribution.)"
      ]
    },
    {
      "cell_type": "code",
      "execution_count": 14,
      "metadata": {
        "id": "g295lF4PdERF",
        "scrolled": false
      },
      "outputs": [],
      "source": []
    },
    {
      "cell_type": "markdown",
      "metadata": {
        "id": "Kyr7eC6ddERF"
      },
      "source": [
        "For a simpler visualization, you can use `abline_plot` from StatsModels to add a best-fit line to a regular scatter plot."
      ]
    },
    {
      "cell_type": "code",
      "execution_count": 15,
      "metadata": {
        "id": "FGVynHA2dERG"
      },
      "outputs": [],
      "source": [
        "fig, ax = plt.subplots()\n",
        "df.plot.scatter(x=\"height\", y=\"weight\", label=\"Data points\", ax=ax)\n",
        "sm.graphics.abline_plot(model_results=results, label=\"Regression line\", ax=ax)\n",
        "ax.legend();"
      ]
    },
    {
      "cell_type": "markdown",
      "metadata": {
        "id": "KxBRqKLldERG"
      },
      "source": [
        "There is also a Seaborn function, `regplot` ([documentation here](https://seaborn.pydata.org/generated/seaborn.regplot.html)), that can be useful for visualizing the original data alongside the regression line. In this case the shaded region also represents the confidence interval, which is computed using a different technique called bootstrapping."
      ]
    },
    {
      "cell_type": "code",
      "execution_count": 16,
      "metadata": {
        "id": "Ml89-htjdERG"
      },
      "outputs": [],
      "source": [
        "sns.regplot(x=\"height\", y=\"weight\", data=df);"
      ]
    },
    {
      "cell_type": "markdown",
      "metadata": {
        "id": "4DrXET_udERG"
      },
      "source": [
        "### Plotting Residuals\n",
        "\n",
        "Model residuals are the differences between the true values and the values predicted by the model. We can get them easily from the model results using the `resid` attribute."
      ]
    },
    {
      "cell_type": "code",
      "execution_count": null,
      "metadata": {
        "id": "z_p9A5LCdERH",
        "outputId": "bd359c65-3bcf-4ea7-e105-6844a3ae04fe"
      },
      "outputs": [
        {
          "data": {
            "text/plain": [
              "0     -7.169872\n",
              "1     12.213070\n",
              "2      6.603263\n",
              "3     -7.708891\n",
              "4      3.213070\n",
              "5      8.220320\n",
              "6      0.674051\n",
              "7      5.135032\n",
              "8     -1.779680\n",
              "9      4.596012\n",
              "10     1.603263\n",
              "11     2.681301\n",
              "12    -5.708891\n",
              "13     2.830128\n",
              "14    -5.013795\n",
              "15    -7.708891\n",
              "16     5.674051\n",
              "17    -6.091834\n",
              "18    -5.552814\n",
              "19    -6.708891\n",
              "dtype: float64"
            ]
          },
          "execution_count": 17,
          "metadata": {},
          "output_type": "execute_result"
        }
      ],
      "source": [
        "results.resid"
      ]
    },
    {
      "cell_type": "markdown",
      "metadata": {
        "id": "Np7Ecz4-dERH"
      },
      "source": [
        "As you can see, model residuals can be negative or positive depending on whether the model guessed too high or too low of a value.\n",
        "\n",
        "The most typical way to plot the model residuals is like this:"
      ]
    },
    {
      "cell_type": "code",
      "execution_count": 17,
      "metadata": {
        "id": "o1TNCOXidERH"
      },
      "outputs": [],
      "source": [
        "fig, ax = plt.subplots()\n",
        "\n",
        "ax.scatter(df[\"height\"], results.resid)\n",
        "ax.axhline(y=0, color=\"black\")\n",
        "ax.set_xlabel(\"height\")\n",
        "ax.set_ylabel(\"residuals\");"
      ]
    },
    {
      "cell_type": "markdown",
      "metadata": {
        "id": "om9b1GX8dERI"
      },
      "source": [
        "We also might be interested in the distribution of the residuals, which we could plot using a histogram:"
      ]
    },
    {
      "cell_type": "code",
      "execution_count": null,
      "metadata": {
        "id": "RitkFGf_dERI",
        "outputId": "163451bf-fb17-4d5e-f867-8aeb2daf3e9e"
      },
      "outputs": [
        {
          "data": {
            "image/png": "[encoded data removed]",
            "text/plain": [
              "<Figure size 576x396 with 1 Axes>"
            ]
          },
          "metadata": {},
          "output_type": "display_data"
        }
      ],
      "source": [
        "plt.hist(results.resid, bins=\"auto\");"
      ]
    },
    {
      "cell_type": "markdown",
      "metadata": {
        "id": "A75DXZtkdERI"
      },
      "source": [
        "Another tool we might use to visualize the distribution of the residuals is called a Q-Q plot. It compares the quantiles of the residuals to the quantiles of a theoretical normal distribution. The farther from the line that the data points appear, the farther from a normal distribution they are."
      ]
    },
    {
      "cell_type": "code",
      "execution_count": null,
      "metadata": {
        "id": "JnzjJ-JLdERJ",
        "outputId": "0d2c3262-e372-4e04-d928-995185455126"
      },
      "outputs": [
        {
          "data": {
            "image/png": "[encoded data removed]",
            "text/plain": [
              "<Figure size 576x396 with 1 Axes>"
            ]
          },
          "metadata": {},
          "output_type": "display_data"
        }
      ],
      "source": [
        "sm.graphics.qqplot(results.resid, dist=stats.norm, line='45', fit=True)\n",
        "plt.show()"
      ]
    },
    {
      "cell_type": "markdown",
      "metadata": {
        "id": "OWyqxsqldERJ"
      },
      "source": [
        "#### Why Visualize Residuals?\n",
        "\n",
        "The main purpose of visualizing the residuals is to help you better understand where your model is performing well, and where it is performing poorly. For example, some models perform better on smaller values than larger values.\n",
        "\n",
        "You might use this information to improve the model, or simply to communicate transparently about its strengths and weaknesses. These plots will also become relevant when investigating whether the model assumptions are being met."
      ]
    },
    {
      "cell_type": "markdown",
      "metadata": {
        "id": "iCGvbUBNdERJ"
      },
      "source": [
        "## R-Style Regression Formulas\n",
        "\n",
        "We have been using the primary (`api`) interface to StatsModels. There is also an interface (`formula.api`) that uses R-style formulas. R-style meaning that the formulas for the models are written in the same style as they would be written in the programming language [R](https://en.wikipedia.org/wiki/R_(programming_language)).\n",
        "\n",
        "Unlike Python, R has built-in functionality for linear modeling, and so you will find that some foundational statistics and data science resources and papers used R rather than Python. StatsModels includes this R-style interface to be more convenient for people who learned R first. You can read more about it [here](https://www.statsmodels.org/stable/example_formulas.html).\n",
        "\n",
        "Below we provide an example of the same model above, except developed using an R-style formula."
      ]
    },
    {
      "cell_type": "code",
      "execution_count": null,
      "metadata": {
        "id": "jM6EJUYAdERJ",
        "outputId": "cd8ecb76-3eb8-4e72-ea87-6b9b0dc7a614"
      },
      "outputs": [
        {
          "name": "stdout",
          "output_type": "stream",
          "text": [
            "                            OLS Regression Results                            \n",
            "==============================================================================\n",
            "Dep. Variable:                 weight   R-squared:                       0.955\n",
            "Model:                            OLS   Adj. R-squared:                  0.953\n",
            "Method:                 Least Squares   F-statistic:                     384.8\n",
            "Date:                Fri, 06 May 2022   Prob (F-statistic):           1.35e-13\n",
            "Time:                        15:24:20   Log-Likelihood:                -64.112\n",
            "No. Observations:                  20   AIC:                             132.2\n",
            "Df Residuals:                      18   BIC:                             134.2\n",
            "Df Model:                           1                                         \n",
            "Covariance Type:            nonrobust                                         \n",
            "==============================================================================\n",
            "                 coef    std err          t      P>|t|      [0.025      0.975]\n",
            "------------------------------------------------------------------------------\n",
            "Intercept   -204.4834     18.929    -10.802      0.000    -244.252    -164.714\n",
            "height         5.5390      0.282     19.616      0.000       4.946       6.132\n",
            "==============================================================================\n",
            "Omnibus:                        2.588   Durbin-Watson:                   2.053\n",
            "Prob(Omnibus):                  0.274   Jarque-Bera (JB):                1.245\n",
            "Skew:                           0.202   Prob(JB):                        0.537\n",
            "Kurtosis:                       1.846   Cond. No.                         902.\n",
            "==============================================================================\n",
            "\n",
            "Notes:\n",
            "[1] Standard Errors assume that the covariance matrix of the errors is correctly specified.\n"
          ]
        }
      ],
      "source": [
        "import statsmodels.formula.api as smf\n",
        "\n",
        "rstyle_model = smf.ols(formula=\"weight ~ height\", data=df)\n",
        "rstyle_results = rstyle_model.fit()\n",
        "print(rstyle_results.summary())"
      ]
    },
    {
      "cell_type": "markdown",
      "metadata": {
        "id": "gRK-feASdERK"
      },
      "source": [
        "The only difference in the results between using the R-style formula `ols` and the `OLS` we used previously is that one of the parameters is called `Intercept` rather than `const`. This is because `ols` automatically adds a constant to the `X` values, whereas with `OLS` you need to use `sm.add_constant`. Both forms result in an intercept term, they just have different names.\n",
        "\n",
        "In general, we recommend using the `OLS` interface rather than the R-style formula interface because building the formula can get increasingly complicated as we move from simple linear regression to multiple regression. But you may see examples using either, so it's useful to be able to interpret both forms."
      ]
    },
    {
      "cell_type": "markdown",
      "metadata": {
        "id": "tFLlM5UUdERK"
      },
      "source": [
        "## Summary\n",
        "\n",
        "Now you know how to run a simple linear regression in StatsModels. After creating and fitting the model, you used attributes of the results object as well as the model summary to evaluate the model performance and interpret the values of its coefficients. You also saw some examples of visualizations to represent model performance, including some visualization tools directly from StatsModels."
      ]
    }
  ],
  "metadata": {
    "colab": {
      "provenance": []
    },
    "kernelspec": {
      "display_name": "learn-env",
      "language": "python",
      "name": "python3"
    },
    "language_info": {
      "codemirror_mode": {
        "name": "ipython",
        "version": 3
      },
      "file_extension": ".py",
      "mimetype": "text/x-python",
      "name": "python",
      "nbconvert_exporter": "python",
      "pygments_lexer": "ipython3",
      "version": "3.8.5"
    }
  },
  "nbformat": 4,
  "nbformat_minor": 0
}

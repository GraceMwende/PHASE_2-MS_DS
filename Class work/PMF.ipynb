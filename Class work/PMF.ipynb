{
 "cells": [
  {
   "cell_type": "code",
   "execution_count": 1,
   "metadata": {},
   "outputs": [],
   "source": [
    "import pandas as pd"
   ]
  },
  {
   "cell_type": "code",
   "execution_count": 3,
   "metadata": {},
   "outputs": [
    {
     "data": {
      "text/html": [
       "<div>\n",
       "<style scoped>\n",
       "    .dataframe tbody tr th:only-of-type {\n",
       "        vertical-align: middle;\n",
       "    }\n",
       "\n",
       "    .dataframe tbody tr th {\n",
       "        vertical-align: top;\n",
       "    }\n",
       "\n",
       "    .dataframe thead th {\n",
       "        text-align: right;\n",
       "    }\n",
       "</style>\n",
       "<table border=\"1\" class=\"dataframe\">\n",
       "  <thead>\n",
       "    <tr style=\"text-align: right;\">\n",
       "      <th></th>\n",
       "      <th>Unnamed: 0</th>\n",
       "      <th>PassengerId</th>\n",
       "      <th>Survived</th>\n",
       "      <th>Pclass</th>\n",
       "      <th>Name</th>\n",
       "      <th>Sex</th>\n",
       "      <th>Age</th>\n",
       "      <th>SibSp</th>\n",
       "      <th>Parch</th>\n",
       "      <th>Ticket</th>\n",
       "      <th>Fare</th>\n",
       "      <th>Cabin</th>\n",
       "      <th>Embarked</th>\n",
       "    </tr>\n",
       "  </thead>\n",
       "  <tbody>\n",
       "    <tr>\n",
       "      <th>0</th>\n",
       "      <td>0</td>\n",
       "      <td>1</td>\n",
       "      <td>0</td>\n",
       "      <td>3</td>\n",
       "      <td>Braund, Mr. Owen Harris</td>\n",
       "      <td>male</td>\n",
       "      <td>22.0</td>\n",
       "      <td>1</td>\n",
       "      <td>0</td>\n",
       "      <td>A/5 21171</td>\n",
       "      <td>7.2500</td>\n",
       "      <td>NaN</td>\n",
       "      <td>S</td>\n",
       "    </tr>\n",
       "    <tr>\n",
       "      <th>1</th>\n",
       "      <td>1</td>\n",
       "      <td>2</td>\n",
       "      <td>1</td>\n",
       "      <td>1</td>\n",
       "      <td>Cumings, Mrs. John Bradley (Florence Briggs Th...</td>\n",
       "      <td>female</td>\n",
       "      <td>38.0</td>\n",
       "      <td>1</td>\n",
       "      <td>0</td>\n",
       "      <td>PC 17599</td>\n",
       "      <td>71.2833</td>\n",
       "      <td>C85</td>\n",
       "      <td>C</td>\n",
       "    </tr>\n",
       "    <tr>\n",
       "      <th>2</th>\n",
       "      <td>2</td>\n",
       "      <td>3</td>\n",
       "      <td>1</td>\n",
       "      <td>3</td>\n",
       "      <td>Heikkinen, Miss. Laina</td>\n",
       "      <td>female</td>\n",
       "      <td>26.0</td>\n",
       "      <td>0</td>\n",
       "      <td>0</td>\n",
       "      <td>STON/O2. 3101282</td>\n",
       "      <td>7.9250</td>\n",
       "      <td>NaN</td>\n",
       "      <td>S</td>\n",
       "    </tr>\n",
       "    <tr>\n",
       "      <th>3</th>\n",
       "      <td>3</td>\n",
       "      <td>4</td>\n",
       "      <td>1</td>\n",
       "      <td>1</td>\n",
       "      <td>Futrelle, Mrs. Jacques Heath (Lily May Peel)</td>\n",
       "      <td>female</td>\n",
       "      <td>35.0</td>\n",
       "      <td>1</td>\n",
       "      <td>0</td>\n",
       "      <td>113803</td>\n",
       "      <td>53.1000</td>\n",
       "      <td>C123</td>\n",
       "      <td>S</td>\n",
       "    </tr>\n",
       "    <tr>\n",
       "      <th>4</th>\n",
       "      <td>4</td>\n",
       "      <td>5</td>\n",
       "      <td>0</td>\n",
       "      <td>3</td>\n",
       "      <td>Allen, Mr. William Henry</td>\n",
       "      <td>male</td>\n",
       "      <td>35.0</td>\n",
       "      <td>0</td>\n",
       "      <td>0</td>\n",
       "      <td>373450</td>\n",
       "      <td>8.0500</td>\n",
       "      <td>NaN</td>\n",
       "      <td>S</td>\n",
       "    </tr>\n",
       "  </tbody>\n",
       "</table>\n",
       "</div>"
      ],
      "text/plain": [
       "   Unnamed: 0  PassengerId  Survived Pclass  \\\n",
       "0           0            1         0      3   \n",
       "1           1            2         1      1   \n",
       "2           2            3         1      3   \n",
       "3           3            4         1      1   \n",
       "4           4            5         0      3   \n",
       "\n",
       "                                                Name     Sex   Age  SibSp  \\\n",
       "0                            Braund, Mr. Owen Harris    male  22.0      1   \n",
       "1  Cumings, Mrs. John Bradley (Florence Briggs Th...  female  38.0      1   \n",
       "2                             Heikkinen, Miss. Laina  female  26.0      0   \n",
       "3       Futrelle, Mrs. Jacques Heath (Lily May Peel)  female  35.0      1   \n",
       "4                           Allen, Mr. William Henry    male  35.0      0   \n",
       "\n",
       "   Parch            Ticket     Fare Cabin Embarked  \n",
       "0      0         A/5 21171   7.2500   NaN        S  \n",
       "1      0          PC 17599  71.2833   C85        C  \n",
       "2      0  STON/O2. 3101282   7.9250   NaN        S  \n",
       "3      0            113803  53.1000  C123        S  \n",
       "4      0            373450   8.0500   NaN        S  "
      ]
     },
     "execution_count": 3,
     "metadata": {},
     "output_type": "execute_result"
    }
   ],
   "source": [
    "titanic = pd.read_csv('data/titanic.csv')\n",
    "titanic.head()"
   ]
  },
  {
   "cell_type": "code",
   "execution_count": 6,
   "metadata": {},
   "outputs": [
    {
     "data": {
      "text/plain": [
       "0    549\n",
       "1    342\n",
       "Name: Survived, dtype: int64"
      ]
     },
     "execution_count": 6,
     "metadata": {},
     "output_type": "execute_result"
    }
   ],
   "source": [
    "#pmf = surival/total_count\n",
    "survical_count = titanic['Survived'].value_counts()\n",
    "survical_count"
   ]
  },
  {
   "cell_type": "code",
   "execution_count": 7,
   "metadata": {},
   "outputs": [
    {
     "data": {
      "text/plain": [
       "891"
      ]
     },
     "execution_count": 7,
     "metadata": {},
     "output_type": "execute_result"
    }
   ],
   "source": [
    "total_count = len(titanic['Survived'])\n",
    "total_count"
   ]
  },
  {
   "cell_type": "code",
   "execution_count": 9,
   "metadata": {},
   "outputs": [
    {
     "data": {
      "text/plain": [
       "0    0.616162\n",
       "1    0.383838\n",
       "Name: Survived, dtype: float64"
      ]
     },
     "execution_count": 9,
     "metadata": {},
     "output_type": "execute_result"
    }
   ],
   "source": [
    "pmf_survival =  survical_count/total_count\n",
    "pmf_survival"
   ]
  },
  {
   "cell_type": "code",
   "execution_count": 10,
   "metadata": {},
   "outputs": [
    {
     "data": {
      "text/plain": [
       "0    0.616162\n",
       "1    0.383838\n",
       "Name: Survived, dtype: float64"
      ]
     },
     "execution_count": 10,
     "metadata": {},
     "output_type": "execute_result"
    }
   ],
   "source": [
    "titanic['Survived'].value_counts(normalize=True)"
   ]
  },
  {
   "cell_type": "code",
   "execution_count": 12,
   "metadata": {},
   "outputs": [
    {
     "data": {
      "text/plain": [
       "{'survived': Int64Index([0, 1], dtype='int64'),\n",
       " 'pmf': array([0.61616162, 0.38383838])}"
      ]
     },
     "execution_count": 12,
     "metadata": {},
     "output_type": "execute_result"
    }
   ],
   "source": [
    "pmf_dictionary = {'survived':pmf_survival.index,'pmf':pmf_survival.values}\n",
    "pmf_dictionary"
   ]
  },
  {
   "cell_type": "code",
   "execution_count": 14,
   "metadata": {},
   "outputs": [
    {
     "data": {
      "text/html": [
       "<div>\n",
       "<style scoped>\n",
       "    .dataframe tbody tr th:only-of-type {\n",
       "        vertical-align: middle;\n",
       "    }\n",
       "\n",
       "    .dataframe tbody tr th {\n",
       "        vertical-align: top;\n",
       "    }\n",
       "\n",
       "    .dataframe thead th {\n",
       "        text-align: right;\n",
       "    }\n",
       "</style>\n",
       "<table border=\"1\" class=\"dataframe\">\n",
       "  <thead>\n",
       "    <tr style=\"text-align: right;\">\n",
       "      <th></th>\n",
       "      <th>survived</th>\n",
       "      <th>pmf</th>\n",
       "    </tr>\n",
       "  </thead>\n",
       "  <tbody>\n",
       "    <tr>\n",
       "      <th>0</th>\n",
       "      <td>0</td>\n",
       "      <td>0.616162</td>\n",
       "    </tr>\n",
       "    <tr>\n",
       "      <th>1</th>\n",
       "      <td>1</td>\n",
       "      <td>0.383838</td>\n",
       "    </tr>\n",
       "  </tbody>\n",
       "</table>\n",
       "</div>"
      ],
      "text/plain": [
       "   survived       pmf\n",
       "0         0  0.616162\n",
       "1         1  0.383838"
      ]
     },
     "execution_count": 14,
     "metadata": {},
     "output_type": "execute_result"
    }
   ],
   "source": [
    "pmf_df = pd.DataFrame(pmf_dictionary)\n",
    "pmf_df"
   ]
  },
  {
   "cell_type": "markdown",
   "metadata": {},
   "source": [
    "### Plot above"
   ]
  },
  {
   "cell_type": "code",
   "execution_count": 35,
   "metadata": {},
   "outputs": [
    {
     "data": {
      "image/png": "[encoded data removed]",
      "text/plain": [
       "<Figure size 720x576 with 1 Axes>"
      ]
     },
     "metadata": {},
     "output_type": "display_data"
    }
   ],
   "source": [
    "import matplotlib.pyplot as plt\n",
    "import seaborn as sns\n",
    "plt.style.use('ggplot')\n",
    "plt.figure(figsize=(10,8))\n",
    "bars = plt.bar(pmf_df['survived'],pmf_df['pmf'])\n",
    "# Add labels on top of each bar\n",
    "for bar in bars:\n",
    "    height = bar.get_height()  # Get height of each bar\n",
    "    plt.text(bar.get_x() + bar.get_width() / 2, height, f'{round(height,2)}', ha='center', va='bottom')\n",
    "labels =(0,1)\n",
    "#plt.xticks(ticks=labels)\n",
    "plt.xticks(range(len(pmf_survival.index)))\n",
    "plt.xlabel('survived')\n",
    "plt.ylabel('Probability of survival')\n",
    "plt.title('PMF values for Survival');"
   ]
  },
  {
   "cell_type": "code",
   "execution_count": 34,
   "metadata": {},
   "outputs": [
    {
     "data": {
      "text/plain": [
       "range(0, 2)"
      ]
     },
     "execution_count": 34,
     "metadata": {},
     "output_type": "execute_result"
    }
   ],
   "source": [
    "range(len(pmf_survival.index))"
   ]
  },
  {
   "cell_type": "markdown",
   "metadata": {},
   "source": [
    "### Question: use the titanic dataset to compute the probability Density Function indicating the ages of the passengers who survived and those who did not survive"
   ]
  },
  {
   "cell_type": "code",
   "execution_count": 40,
   "metadata": {},
   "outputs": [
    {
     "data": {
      "text/html": [
       "<div>\n",
       "<style scoped>\n",
       "    .dataframe tbody tr th:only-of-type {\n",
       "        vertical-align: middle;\n",
       "    }\n",
       "\n",
       "    .dataframe tbody tr th {\n",
       "        vertical-align: top;\n",
       "    }\n",
       "\n",
       "    .dataframe thead th {\n",
       "        text-align: right;\n",
       "    }\n",
       "</style>\n",
       "<table border=\"1\" class=\"dataframe\">\n",
       "  <thead>\n",
       "    <tr style=\"text-align: right;\">\n",
       "      <th></th>\n",
       "      <th>age</th>\n",
       "      <th>survived</th>\n",
       "    </tr>\n",
       "  </thead>\n",
       "  <tbody>\n",
       "    <tr>\n",
       "      <th>0</th>\n",
       "      <td>22.0</td>\n",
       "      <td>0</td>\n",
       "    </tr>\n",
       "    <tr>\n",
       "      <th>1</th>\n",
       "      <td>38.0</td>\n",
       "      <td>1</td>\n",
       "    </tr>\n",
       "    <tr>\n",
       "      <th>2</th>\n",
       "      <td>26.0</td>\n",
       "      <td>1</td>\n",
       "    </tr>\n",
       "    <tr>\n",
       "      <th>3</th>\n",
       "      <td>35.0</td>\n",
       "      <td>1</td>\n",
       "    </tr>\n",
       "    <tr>\n",
       "      <th>4</th>\n",
       "      <td>35.0</td>\n",
       "      <td>0</td>\n",
       "    </tr>\n",
       "  </tbody>\n",
       "</table>\n",
       "</div>"
      ],
      "text/plain": [
       "    age  survived\n",
       "0  22.0         0\n",
       "1  38.0         1\n",
       "2  26.0         1\n",
       "3  35.0         1\n",
       "4  35.0         0"
      ]
     },
     "execution_count": 40,
     "metadata": {},
     "output_type": "execute_result"
    }
   ],
   "source": [
    "titanic =sns.load_dataset('titanic')\n",
    "df = titanic[['age','survived']].dropna()\n",
    "df.head()"
   ]
  },
  {
   "cell_type": "code",
   "execution_count": 58,
   "metadata": {},
   "outputs": [
    {
     "data": {
      "image/png": "[encoded data removed]",
      "text/plain": [
       "<Figure size 720x288 with 1 Axes>"
      ]
     },
     "metadata": {},
     "output_type": "display_data"
    }
   ],
   "source": [
    "#plot pdf for age and survival status\n",
    "plt.figure(figsize=(10,4))\n",
    "survived = df.query('survived==1')['age']\n",
    "n_survived = df.query('survived==0')['age']\n",
    "sns.kdeplot(survived,fill=True,label='Survived',color='g')\n",
    "sns.kdeplot(n_survived,fill=True,label='Survived',color='r')\n",
    "plt.title('Probability Density Function of survival status based on Age')\n",
    "plt.legend(title='Survial_status');"
   ]
  },
  {
   "cell_type": "code",
   "execution_count": 61,
   "metadata": {},
   "outputs": [
    {
     "data": {
      "text/html": [
       "<div>\n",
       "<style scoped>\n",
       "    .dataframe tbody tr th:only-of-type {\n",
       "        vertical-align: middle;\n",
       "    }\n",
       "\n",
       "    .dataframe tbody tr th {\n",
       "        vertical-align: top;\n",
       "    }\n",
       "\n",
       "    .dataframe thead th {\n",
       "        text-align: right;\n",
       "    }\n",
       "</style>\n",
       "<table border=\"1\" class=\"dataframe\">\n",
       "  <thead>\n",
       "    <tr style=\"text-align: right;\">\n",
       "      <th></th>\n",
       "      <th>age</th>\n",
       "      <th>survived</th>\n",
       "    </tr>\n",
       "  </thead>\n",
       "  <tbody>\n",
       "    <tr>\n",
       "      <th>0</th>\n",
       "      <td>22.0</td>\n",
       "      <td>0</td>\n",
       "    </tr>\n",
       "    <tr>\n",
       "      <th>1</th>\n",
       "      <td>38.0</td>\n",
       "      <td>1</td>\n",
       "    </tr>\n",
       "    <tr>\n",
       "      <th>2</th>\n",
       "      <td>26.0</td>\n",
       "      <td>1</td>\n",
       "    </tr>\n",
       "    <tr>\n",
       "      <th>3</th>\n",
       "      <td>35.0</td>\n",
       "      <td>1</td>\n",
       "    </tr>\n",
       "    <tr>\n",
       "      <th>4</th>\n",
       "      <td>35.0</td>\n",
       "      <td>0</td>\n",
       "    </tr>\n",
       "    <tr>\n",
       "      <th>...</th>\n",
       "      <td>...</td>\n",
       "      <td>...</td>\n",
       "    </tr>\n",
       "    <tr>\n",
       "      <th>884</th>\n",
       "      <td>25.0</td>\n",
       "      <td>0</td>\n",
       "    </tr>\n",
       "    <tr>\n",
       "      <th>885</th>\n",
       "      <td>39.0</td>\n",
       "      <td>0</td>\n",
       "    </tr>\n",
       "    <tr>\n",
       "      <th>886</th>\n",
       "      <td>27.0</td>\n",
       "      <td>0</td>\n",
       "    </tr>\n",
       "    <tr>\n",
       "      <th>889</th>\n",
       "      <td>26.0</td>\n",
       "      <td>1</td>\n",
       "    </tr>\n",
       "    <tr>\n",
       "      <th>890</th>\n",
       "      <td>32.0</td>\n",
       "      <td>0</td>\n",
       "    </tr>\n",
       "  </tbody>\n",
       "</table>\n",
       "<p>400 rows × 2 columns</p>\n",
       "</div>"
      ],
      "text/plain": [
       "      age  survived\n",
       "0    22.0         0\n",
       "1    38.0         1\n",
       "2    26.0         1\n",
       "3    35.0         1\n",
       "4    35.0         0\n",
       "..    ...       ...\n",
       "884  25.0         0\n",
       "885  39.0         0\n",
       "886  27.0         0\n",
       "889  26.0         1\n",
       "890  32.0         0\n",
       "\n",
       "[400 rows x 2 columns]"
      ]
     },
     "execution_count": 61,
     "metadata": {},
     "output_type": "execute_result"
    }
   ],
   "source": [
    "#Define the age range for further analysis\n",
    "age_min,age_max = 20,40\n",
    "#Filter the dataset for passengers within the defined age range of 20 and 40\n",
    "filtered_df = df.query('age>=@age_min & age<=@age_max')\n",
    "filtered_df"
   ]
  },
  {
   "cell_type": "code",
   "execution_count": 63,
   "metadata": {},
   "outputs": [
    {
     "data": {
      "text/html": [
       "<div>\n",
       "<style scoped>\n",
       "    .dataframe tbody tr th:only-of-type {\n",
       "        vertical-align: middle;\n",
       "    }\n",
       "\n",
       "    .dataframe tbody tr th {\n",
       "        vertical-align: top;\n",
       "    }\n",
       "\n",
       "    .dataframe thead th {\n",
       "        text-align: right;\n",
       "    }\n",
       "</style>\n",
       "<table border=\"1\" class=\"dataframe\">\n",
       "  <thead>\n",
       "    <tr style=\"text-align: right;\">\n",
       "      <th></th>\n",
       "      <th>age</th>\n",
       "      <th>survived</th>\n",
       "    </tr>\n",
       "  </thead>\n",
       "  <tbody>\n",
       "    <tr>\n",
       "      <th>1</th>\n",
       "      <td>38.0</td>\n",
       "      <td>1</td>\n",
       "    </tr>\n",
       "    <tr>\n",
       "      <th>2</th>\n",
       "      <td>26.0</td>\n",
       "      <td>1</td>\n",
       "    </tr>\n",
       "    <tr>\n",
       "      <th>3</th>\n",
       "      <td>35.0</td>\n",
       "      <td>1</td>\n",
       "    </tr>\n",
       "    <tr>\n",
       "      <th>8</th>\n",
       "      <td>27.0</td>\n",
       "      <td>1</td>\n",
       "    </tr>\n",
       "    <tr>\n",
       "      <th>21</th>\n",
       "      <td>34.0</td>\n",
       "      <td>1</td>\n",
       "    </tr>\n",
       "    <tr>\n",
       "      <th>...</th>\n",
       "      <td>...</td>\n",
       "      <td>...</td>\n",
       "    </tr>\n",
       "    <tr>\n",
       "      <th>858</th>\n",
       "      <td>24.0</td>\n",
       "      <td>1</td>\n",
       "    </tr>\n",
       "    <tr>\n",
       "      <th>866</th>\n",
       "      <td>27.0</td>\n",
       "      <td>1</td>\n",
       "    </tr>\n",
       "    <tr>\n",
       "      <th>874</th>\n",
       "      <td>28.0</td>\n",
       "      <td>1</td>\n",
       "    </tr>\n",
       "    <tr>\n",
       "      <th>880</th>\n",
       "      <td>25.0</td>\n",
       "      <td>1</td>\n",
       "    </tr>\n",
       "    <tr>\n",
       "      <th>889</th>\n",
       "      <td>26.0</td>\n",
       "      <td>1</td>\n",
       "    </tr>\n",
       "  </tbody>\n",
       "</table>\n",
       "<p>156 rows × 2 columns</p>\n",
       "</div>"
      ],
      "text/plain": [
       "      age  survived\n",
       "1    38.0         1\n",
       "2    26.0         1\n",
       "3    35.0         1\n",
       "8    27.0         1\n",
       "21   34.0         1\n",
       "..    ...       ...\n",
       "858  24.0         1\n",
       "866  27.0         1\n",
       "874  28.0         1\n",
       "880  25.0         1\n",
       "889  26.0         1\n",
       "\n",
       "[156 rows x 2 columns]"
      ]
     },
     "execution_count": 63,
     "metadata": {},
     "output_type": "execute_result"
    }
   ],
   "source": [
    "survived_df = filtered_df.query('survived==1')\n",
    "survived_df"
   ]
  },
  {
   "cell_type": "code",
   "execution_count": 66,
   "metadata": {},
   "outputs": [
    {
     "data": {
      "text/html": [
       "<div>\n",
       "<style scoped>\n",
       "    .dataframe tbody tr th:only-of-type {\n",
       "        vertical-align: middle;\n",
       "    }\n",
       "\n",
       "    .dataframe tbody tr th {\n",
       "        vertical-align: top;\n",
       "    }\n",
       "\n",
       "    .dataframe thead th {\n",
       "        text-align: right;\n",
       "    }\n",
       "</style>\n",
       "<table border=\"1\" class=\"dataframe\">\n",
       "  <thead>\n",
       "    <tr style=\"text-align: right;\">\n",
       "      <th></th>\n",
       "      <th>age</th>\n",
       "      <th>survived</th>\n",
       "    </tr>\n",
       "  </thead>\n",
       "  <tbody>\n",
       "    <tr>\n",
       "      <th>0</th>\n",
       "      <td>22.0</td>\n",
       "      <td>0</td>\n",
       "    </tr>\n",
       "    <tr>\n",
       "      <th>4</th>\n",
       "      <td>35.0</td>\n",
       "      <td>0</td>\n",
       "    </tr>\n",
       "    <tr>\n",
       "      <th>12</th>\n",
       "      <td>20.0</td>\n",
       "      <td>0</td>\n",
       "    </tr>\n",
       "    <tr>\n",
       "      <th>13</th>\n",
       "      <td>39.0</td>\n",
       "      <td>0</td>\n",
       "    </tr>\n",
       "    <tr>\n",
       "      <th>18</th>\n",
       "      <td>31.0</td>\n",
       "      <td>0</td>\n",
       "    </tr>\n",
       "    <tr>\n",
       "      <th>...</th>\n",
       "      <td>...</td>\n",
       "      <td>...</td>\n",
       "    </tr>\n",
       "    <tr>\n",
       "      <th>883</th>\n",
       "      <td>28.0</td>\n",
       "      <td>0</td>\n",
       "    </tr>\n",
       "    <tr>\n",
       "      <th>884</th>\n",
       "      <td>25.0</td>\n",
       "      <td>0</td>\n",
       "    </tr>\n",
       "    <tr>\n",
       "      <th>885</th>\n",
       "      <td>39.0</td>\n",
       "      <td>0</td>\n",
       "    </tr>\n",
       "    <tr>\n",
       "      <th>886</th>\n",
       "      <td>27.0</td>\n",
       "      <td>0</td>\n",
       "    </tr>\n",
       "    <tr>\n",
       "      <th>890</th>\n",
       "      <td>32.0</td>\n",
       "      <td>0</td>\n",
       "    </tr>\n",
       "  </tbody>\n",
       "</table>\n",
       "<p>244 rows × 2 columns</p>\n",
       "</div>"
      ],
      "text/plain": [
       "      age  survived\n",
       "0    22.0         0\n",
       "4    35.0         0\n",
       "12   20.0         0\n",
       "13   39.0         0\n",
       "18   31.0         0\n",
       "..    ...       ...\n",
       "883  28.0         0\n",
       "884  25.0         0\n",
       "885  39.0         0\n",
       "886  27.0         0\n",
       "890  32.0         0\n",
       "\n",
       "[244 rows x 2 columns]"
      ]
     },
     "execution_count": 66,
     "metadata": {},
     "output_type": "execute_result"
    }
   ],
   "source": [
    "not_survived_df = filtered_df.query('~(survived==1)')\n",
    "not_survived_df = filtered_df.query('survived==0')\n",
    "not_survived_df"
   ]
  },
  {
   "cell_type": "code",
   "execution_count": 70,
   "metadata": {},
   "outputs": [
    {
     "data": {
      "text/plain": [
       "array([0.02320662, 0.02531543, 0.02745777, 0.0296155 , 0.03176979,\n",
       "       0.03390161, 0.03599207, 0.03802288, 0.03997671, 0.04183754,\n",
       "       0.04359102, 0.04522474, 0.04672851, 0.0480945 , 0.04931746,\n",
       "       0.05039476, 0.05132642, 0.05211509, 0.05276591, 0.05328635,\n",
       "       0.05368594, 0.05397597, 0.05416908, 0.05427889, 0.05431953,\n",
       "       0.05430517, 0.05424963, 0.05416597, 0.05406611, 0.05396058,\n",
       "       0.05385833, 0.05376658, 0.05369082, 0.05363483, 0.05360077,\n",
       "       0.05358937, 0.05360006, 0.05363122, 0.05368031, 0.05374413,\n",
       "       0.05381895, 0.0539007 , 0.05398506, 0.05406764, 0.05414407,\n",
       "       0.05421009, 0.05426173, 0.05429536, 0.05430786, 0.05429671,\n",
       "       0.05426012, 0.05419712, 0.05410763, 0.0539925 , 0.05385348,\n",
       "       0.05369315, 0.05351479, 0.05332214, 0.05311919, 0.05290985,\n",
       "       0.0526976 , 0.05248518, 0.05227419, 0.05206487, 0.05185582,\n",
       "       0.05164391, 0.05142424, 0.05119024, 0.05093393, 0.05064624,\n",
       "       0.05031753, 0.04993804, 0.04949858, 0.04899099, 0.04840878,\n",
       "       0.04774752, 0.04700519, 0.04618233, 0.04528206, 0.0443099 ,\n",
       "       0.04327343, 0.0421818 , 0.04104515, 0.03987397, 0.03867845,\n",
       "       0.03746783, 0.03624994, 0.03503078, 0.03381428, 0.03260225,\n",
       "       0.03139451, 0.03018915, 0.02898297, 0.02777196, 0.02655187,\n",
       "       0.02531878, 0.02406967, 0.02280279, 0.0215181 , 0.0202174 ])"
      ]
     },
     "execution_count": 70,
     "metadata": {},
     "output_type": "execute_result"
    }
   ],
   "source": [
    "#calculate the Density for survivors\n",
    "import numpy as np\n",
    "from scipy.stats import gaussian_kde\n",
    "age_values = np.linspace(age_min,age_max,100)\n",
    "\n",
    "#calculate the density for those who survived and those who did not\n",
    "kde_survived = gaussian_kde(survived_df['age'])\n",
    "kde_survived_density = kde_survived(age_values)\n",
    "kde_survived_density\n"
   ]
  },
  {
   "cell_type": "code",
   "execution_count": 71,
   "metadata": {},
   "outputs": [
    {
     "data": {
      "text/plain": [
       "array([0.03781902, 0.04036421, 0.04279391, 0.04508198, 0.0472068 ,\n",
       "       0.04915181, 0.05090587, 0.05246323, 0.05382332, 0.05499017,\n",
       "       0.05597173, 0.05677902, 0.05742521, 0.05792469, 0.05829229,\n",
       "       0.05854258, 0.05868935, 0.05874534, 0.05872208, 0.05863001,\n",
       "       0.05847867, 0.05827698, 0.05803361, 0.05775726, 0.05745688,\n",
       "       0.0571418 , 0.05682169, 0.05650635, 0.05620538, 0.05592779,\n",
       "       0.05568142, 0.05547245, 0.05530492, 0.05518032, 0.0550973 ,\n",
       "       0.05505163, 0.05503624, 0.05504154, 0.05505583, 0.05506591,\n",
       "       0.05505776, 0.05501732, 0.05493117, 0.0547873 , 0.05457565,\n",
       "       0.05428865, 0.05392151, 0.05347242, 0.05294256, 0.05233591,\n",
       "       0.05165905, 0.0509207 , 0.05013129, 0.04930242, 0.04844632,\n",
       "       0.04757535, 0.04670148, 0.04583585, 0.04498842, 0.04416769,\n",
       "       0.04338051, 0.04263193, 0.04192525, 0.04126199, 0.04064204,\n",
       "       0.04006384, 0.03952454, 0.03902026, 0.0385463 , 0.03809746,\n",
       "       0.03766822, 0.03725303, 0.03684647, 0.03644351, 0.03603959,\n",
       "       0.03563081, 0.03521389, 0.03478627, 0.03434597, 0.03389156,\n",
       "       0.03342193, 0.03293615, 0.03243322, 0.03191186, 0.03137029,\n",
       "       0.03080611, 0.03021618, 0.02959661, 0.02894284, 0.02824984,\n",
       "       0.02751235, 0.02672525, 0.02588395, 0.02498483, 0.0240256 ,\n",
       "       0.02300574, 0.02192673, 0.02079224, 0.01960822, 0.01838276])"
      ]
     },
     "execution_count": 71,
     "metadata": {},
     "output_type": "execute_result"
    }
   ],
   "source": [
    "kde_survived = gaussian_kde(not_survived_df['age'])\n",
    "kde_survived_density = kde_survived(age_values)\n",
    "kde_survived_density"
   ]
  },
  {
   "cell_type": "code",
   "execution_count": 74,
   "metadata": {},
   "outputs": [
    {
     "name": "stdout",
     "output_type": "stream",
     "text": [
      "Age20.0, Density0.04\n",
      "Age20.2, Density0.04\n",
      "Age20.4, Density0.04\n",
      "Age20.61, Density0.05\n",
      "Age20.81, Density0.05\n",
      "Age21.01, Density0.05\n",
      "Age21.21, Density0.05\n",
      "Age21.41, Density0.05\n",
      "Age21.62, Density0.05\n",
      "Age21.82, Density0.05\n",
      "Age22.02, Density0.06\n",
      "Age22.22, Density0.06\n",
      "Age22.42, Density0.06\n",
      "Age22.63, Density0.06\n",
      "Age22.83, Density0.06\n",
      "Age23.03, Density0.06\n",
      "Age23.23, Density0.06\n",
      "Age23.43, Density0.06\n",
      "Age23.64, Density0.06\n",
      "Age23.84, Density0.06\n",
      "Age24.04, Density0.06\n",
      "Age24.24, Density0.06\n",
      "Age24.44, Density0.06\n",
      "Age24.65, Density0.06\n",
      "Age24.85, Density0.06\n",
      "Age25.05, Density0.06\n",
      "Age25.25, Density0.06\n",
      "Age25.45, Density0.06\n",
      "Age25.66, Density0.06\n",
      "Age25.86, Density0.06\n",
      "Age26.06, Density0.06\n",
      "Age26.26, Density0.06\n",
      "Age26.46, Density0.06\n",
      "Age26.67, Density0.06\n",
      "Age26.87, Density0.06\n",
      "Age27.07, Density0.06\n",
      "Age27.27, Density0.06\n",
      "Age27.47, Density0.06\n",
      "Age27.68, Density0.06\n",
      "Age27.88, Density0.06\n",
      "Age28.08, Density0.06\n",
      "Age28.28, Density0.06\n",
      "Age28.48, Density0.05\n",
      "Age28.69, Density0.05\n",
      "Age28.89, Density0.05\n",
      "Age29.09, Density0.05\n",
      "Age29.29, Density0.05\n",
      "Age29.49, Density0.05\n",
      "Age29.7, Density0.05\n",
      "Age29.9, Density0.05\n",
      "Age30.1, Density0.05\n",
      "Age30.3, Density0.05\n",
      "Age30.51, Density0.05\n",
      "Age30.71, Density0.05\n",
      "Age30.91, Density0.05\n",
      "Age31.11, Density0.05\n",
      "Age31.31, Density0.05\n",
      "Age31.52, Density0.05\n",
      "Age31.72, Density0.04\n",
      "Age31.92, Density0.04\n",
      "Age32.12, Density0.04\n",
      "Age32.32, Density0.04\n",
      "Age32.53, Density0.04\n",
      "Age32.73, Density0.04\n",
      "Age32.93, Density0.04\n",
      "Age33.13, Density0.04\n",
      "Age33.33, Density0.04\n",
      "Age33.54, Density0.04\n",
      "Age33.74, Density0.04\n",
      "Age33.94, Density0.04\n",
      "Age34.14, Density0.04\n",
      "Age34.34, Density0.04\n",
      "Age34.55, Density0.04\n",
      "Age34.75, Density0.04\n",
      "Age34.95, Density0.04\n",
      "Age35.15, Density0.04\n",
      "Age35.35, Density0.04\n",
      "Age35.56, Density0.03\n",
      "Age35.76, Density0.03\n",
      "Age35.96, Density0.03\n",
      "Age36.16, Density0.03\n",
      "Age36.36, Density0.03\n",
      "Age36.57, Density0.03\n",
      "Age36.77, Density0.03\n",
      "Age36.97, Density0.03\n",
      "Age37.17, Density0.03\n",
      "Age37.37, Density0.03\n",
      "Age37.58, Density0.03\n",
      "Age37.78, Density0.03\n",
      "Age37.98, Density0.03\n",
      "Age38.18, Density0.03\n",
      "Age38.38, Density0.03\n",
      "Age38.59, Density0.03\n",
      "Age38.79, Density0.02\n",
      "Age38.99, Density0.02\n",
      "Age39.19, Density0.02\n",
      "Age39.39, Density0.02\n",
      "Age39.6, Density0.02\n",
      "Age39.8, Density0.02\n",
      "Age40.0, Density0.02\n"
     ]
    }
   ],
   "source": [
    "#print the density values for each survivors age\n",
    "\n",
    "for age, density in zip(age_values,kde_survived_density):\n",
    "    print(f'Age{round(age,2)}, Density{round(density,2)}')"
   ]
  },
  {
   "cell_type": "code",
   "execution_count": null,
   "metadata": {},
   "outputs": [],
   "source": []
  }
 ],
 "metadata": {
  "kernelspec": {
   "display_name": "learn-env",
   "language": "python",
   "name": "python3"
  },
  "language_info": {
   "codemirror_mode": {
    "name": "ipython",
    "version": 3
   },
   "file_extension": ".py",
   "mimetype": "text/x-python",
   "name": "python",
   "nbconvert_exporter": "python",
   "pygments_lexer": "ipython3",
   "version": "3.8.5"
  }
 },
 "nbformat": 4,
 "nbformat_minor": 2
}

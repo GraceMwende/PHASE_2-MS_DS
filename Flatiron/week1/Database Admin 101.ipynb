{
 "cells": [
  {
   "cell_type": "markdown",
   "metadata": {},
   "source": [
    "### Objectives\n",
    "You will be able to:\n",
    "\n",
    "- Create a SQL database\n",
    "- Create a SQL table\n",
    "- Create rows in a SQL table\n",
    "- Alter entries in a SQL table\n",
    "- Delete entries in a SQL table\n",
    "- Determine when it is necessary to commit changes to a database\n",
    "- Commit changes via sqlite3\n",
    "\n",
    "### Previewing Files in the Current Working Directory\n",
    "Remember that you can use the bash ls command to preview files and folders in the current working directory. Run the cell below to do just that!"
   ]
  },
  {
   "cell_type": "code",
   "execution_count": 1,
   "metadata": {},
   "outputs": [
    {
     "name": "stdout",
     "output_type": "stream",
     "text": [
      "Database Admin 101.ipynb\n",
      "Filtering Data with SQL - Lab.ipynb\n",
      "Filtering, Ordering, and Limiting Data with SQL - Lab.ipynb\n",
      "Grouping Data with SQL - Lab.ipynb\n",
      "Ordering and Limiting Data with SQL.ipynb\n",
      "connect to SQL Databases.ipynb\n",
      "connect to SQL Databases2.ipynb\n",
      "data\n",
      "filtering.ipynb\n",
      "grouping data with SQL.ipynb\n",
      "selectData.ipynb\n",
      "sql_queries.ipynb\n"
     ]
    }
   ],
   "source": [
    "!ls"
   ]
  },
  {
   "cell_type": "markdown",
   "metadata": {},
   "source": [
    "### Creating a Database\n",
    "You've seen how to connect to a database, but did you know creating one is just as easy? All you have to do is create a connection to a non-existent database, and viola! The database will be created simply by establishing a connection."
   ]
  },
  {
   "cell_type": "code",
   "execution_count": 2,
   "metadata": {},
   "outputs": [],
   "source": [
    "import sqlite3\n",
    "conn = sqlite3.connect('pets_database.db')\n",
    "cur = conn.cursor()"
   ]
  },
  {
   "cell_type": "markdown",
   "metadata": {},
   "source": [
    "### Re-preview Files\n",
    "If you use the ls command once again, you should now see the pets_database.db file there."
   ]
  },
  {
   "cell_type": "code",
   "execution_count": 3,
   "metadata": {},
   "outputs": [
    {
     "name": "stdout",
     "output_type": "stream",
     "text": [
      "Database Admin 101.ipynb\n",
      "Filtering Data with SQL - Lab.ipynb\n",
      "Filtering, Ordering, and Limiting Data with SQL - Lab.ipynb\n",
      "Grouping Data with SQL - Lab.ipynb\n",
      "Ordering and Limiting Data with SQL.ipynb\n",
      "connect to SQL Databases.ipynb\n",
      "connect to SQL Databases2.ipynb\n",
      "data\n",
      "filtering.ipynb\n",
      "grouping data with SQL.ipynb\n",
      "pets_database.db\n",
      "selectData.ipynb\n",
      "sql_queries.ipynb\n"
     ]
    }
   ],
   "source": [
    "!ls"
   ]
  },
  {
   "cell_type": "markdown",
   "metadata": {},
   "source": [
    "### Creating Tables\n",
    "Now that you have a db,lets create our cats table along with columns for id,name,age and breed.Remeber that we use our cursor to execute these SQL statements, and they must be wrapped in quotes('''SQL statement goes here''' or \"\"\"SQL statement goes here\"\"\"). Indenting portions of your queries can also make them much easier to read and debug."
   ]
  },
  {
   "cell_type": "code",
   "execution_count": 41,
   "metadata": {},
   "outputs": [
    {
     "data": {
      "text/plain": [
       "<sqlite3.Cursor at 0x1fd53568c70>"
      ]
     },
     "execution_count": 41,
     "metadata": {},
     "output_type": "execute_result"
    }
   ],
   "source": [
    "#Creating the cats table\n",
    "cur.execute('''\n",
    "CREATE TABLE cats(\n",
    "            id INTEGER PRIMARY KEY,\n",
    "            name TEXT,\n",
    "            age INTEGER,\n",
    "            breed TEXT\n",
    "            )\n",
    "''')"
   ]
  },
  {
   "cell_type": "markdown",
   "metadata": {},
   "source": [
    "### Populating Tables\n",
    "in order to populate a table, you can use the `INSERT INTO` command,followed by the name of the table to which we want to add data. Then in parentheses, we type the column names that we want to fill the data with. This followed by the `VALUES` Keyword, which is accompanied by a parenthses enclosed list of the values that correspond to each column name\n",
    "\n",
    "**Important:** Note that you don't have to specify the \"id\" column name or value. Primary Key columns are auto-incrementing. Therefore, since the cats table has an \"id\" column whose type is INTEGER PRIMARY KEY, you don't have to specify the id column values when you insert data. As long as you have defined an id column with a data type of INTEGER PRIMARY KEY, a newly inserted row's id column will be automatically given the correct value.\n",
    "\n",
    "Okay, let's start storing some cats.\n",
    "### Code Along I: INSERT INTO\n",
    "To insert a record with values, type the following:"
   ]
  },
  {
   "cell_type": "code",
   "execution_count": 42,
   "metadata": {},
   "outputs": [
    {
     "data": {
      "text/plain": [
       "<sqlite3.Cursor at 0x1fd53568c70>"
      ]
     },
     "execution_count": 42,
     "metadata": {},
     "output_type": "execute_result"
    }
   ],
   "source": [
    "# insert Maru into the pet_database.db here\n",
    "cur.execute(''' \n",
    "INSERT INTO cats(name,age,breed)\n",
    "            VALUES('Maru',3,'Scottish Fold'),\n",
    "                  ('Lil Bub',2,'Sheperd cat'),\n",
    "                  ('Hannah',4,'German cats')\n",
    "''')"
   ]
  },
  {
   "cell_type": "markdown",
   "metadata": {},
   "source": [
    "### Altering a Table\n",
    "You can aslo update a table like this: cursor.exacute(''' ALTER TABLE CATS ADD COLUMN notes text''')\n",
    "The general pattern is `ALTER TABLE table_name ADD COLUMN column_name column_type`\n",
    "\n",
    "###Updating Data\n",
    "You can use `UPDATE` keyword to change preexisting rows within a table\n",
    "The `UPDATE` statement uses a `WHERE` clause to grab the row you want to update. It identifies the table nam you are looking in and resets the data in a particukar column to a new value\n",
    "A boilerplate UPDATE statement looks like this:\n",
    "\n",
    "``` curr.execute(```\n",
    "``` '''UPDATE [table name]```\n",
    "\n",
    "    SET [column name] = [new value]\n",
    "\n",
    "    WHERE [column name] = [value]\n",
    "    '''\n",
    "```)```"
   ]
  },
  {
   "cell_type": "code",
   "execution_count": 43,
   "metadata": {},
   "outputs": [
    {
     "data": {
      "text/plain": [
       "<sqlite3.Cursor at 0x1fd53568c70>"
      ]
     },
     "execution_count": 43,
     "metadata": {},
     "output_type": "execute_result"
    }
   ],
   "source": [
    "cur.execute(''' \n",
    "UPDATE  cats\n",
    "            SET name = 'Hana'\n",
    "            WHERE name='Hannah'\n",
    "''')"
   ]
  },
  {
   "cell_type": "markdown",
   "metadata": {},
   "source": [
    "### Deleting Data\n",
    "You can use the `DELETE` keyword to delte table rows.similar to the `UPDATE` keyword, The `DELETE` keyword uses a `WHERE` clause to select rows\n",
    "A boilerplate DELETE statement looks like this:\n",
    "\n",
    "``` curr.execute(```\n",
    "``` '''DELETE FROM [table name]```\n",
    "\n",
    "    WHERE [column name] = [value]\n",
    "    '''\n",
    "```)```\n",
    "### Code Along III: DELETE\n",
    "Let's go ahead and delete Lil' Bub from our cats table (sorry Lil' Bub):"
   ]
  },
  {
   "cell_type": "code",
   "execution_count": 45,
   "metadata": {},
   "outputs": [
    {
     "data": {
      "text/plain": [
       "<sqlite3.Cursor at 0x1fd53568c70>"
      ]
     },
     "execution_count": 45,
     "metadata": {},
     "output_type": "execute_result"
    }
   ],
   "source": [
    "cur.execute(''' \n",
    "DELeTE FROM cats\n",
    "WHERE id=2\n",
    "''')"
   ]
  },
  {
   "cell_type": "markdown",
   "metadata": {},
   "source": [
    "Notice that this time we selected the row to delete using the PRIMARY KEY column. Remember that every table row has a PRIMARY KEY column that is unique. Lil' Bub was the second row in the database and thus had an id of 2.\n",
    "### Saving changes\n",
    "While everything may look well and good, if you were to connect to the database from another Jupyter notebook (or elsewhere) the database would appear blank! That is, while the changes are reflected in your current session connection to the database you have yet to commit those changes to the master database so that other users and connections can also view the updates.\n",
    "\n",
    "Before you commit the changes, let's demonstrate this concept.\n",
    "\n",
    "First, preview the results of the table:"
   ]
  },
  {
   "cell_type": "code",
   "execution_count": 48,
   "metadata": {},
   "outputs": [
    {
     "data": {
      "text/plain": [
       "[(1, 'Maru', 3, 'Scottish Fold'), (3, 'Hana', 4, 'German cats')]"
      ]
     },
     "execution_count": 48,
     "metadata": {},
     "output_type": "execute_result"
    }
   ],
   "source": [
    "#Preview the table via the current cursor/connection\n",
    "cur.execute(''' \n",
    "select * from cats\n",
    "''').fetchall()"
   ]
  },
  {
   "cell_type": "markdown",
   "metadata": {},
   "source": [
    "Now, to demonstrate that these changes aren't reflected to other connections to the database create a 2nd connection/cursor and run the same preview:"
   ]
  },
  {
   "cell_type": "code",
   "execution_count": 49,
   "metadata": {},
   "outputs": [
    {
     "data": {
      "text/plain": [
       "[]"
      ]
     },
     "execution_count": 49,
     "metadata": {},
     "output_type": "execute_result"
    }
   ],
   "source": [
    "conn2 = sqlite3.connect('pets_database.db')\n",
    "cur2 = conn2.cursor()\n",
    "cur2.execute('''SELECT * FROM cats''').fetchall()"
   ]
  },
  {
   "cell_type": "markdown",
   "metadata": {},
   "source": [
    "As you can see, the second connection doesn't currently display any data in the cats table! To make the changes universally accessible commit the changes.\n",
    "\n",
    "In this case:"
   ]
  },
  {
   "cell_type": "code",
   "execution_count": 51,
   "metadata": {},
   "outputs": [],
   "source": [
    "# Commit your changes to the databaase\n",
    "conn.commit()"
   ]
  },
  {
   "cell_type": "markdown",
   "metadata": {},
   "source": [
    "Now, if you reload your second connection, you should see the updates reflected in the data!"
   ]
  },
  {
   "cell_type": "code",
   "execution_count": 52,
   "metadata": {},
   "outputs": [
    {
     "data": {
      "text/plain": [
       "[(1, 'Maru', 3, 'Scottish Fold'), (3, 'Hana', 4, 'German cats')]"
      ]
     },
     "execution_count": 52,
     "metadata": {},
     "output_type": "execute_result"
    }
   ],
   "source": [
    "#Preview the table via a reloaded second current cursor/connection\n",
    "conn2 = sqlite3.connect('pets_database.db')\n",
    "cur2 = conn2.cursor()\n",
    "cur2.execute('''SELECT * FROM cats''').fetchall()"
   ]
  },
  {
   "cell_type": "markdown",
   "metadata": {},
   "source": [
    "### Summary\n",
    "Congrats! In this lesson, you learned how to create, edit, and delete tables and databases using SQL!"
   ]
  },
  {
   "cell_type": "code",
   "execution_count": null,
   "metadata": {},
   "outputs": [],
   "source": []
  },
  {
   "cell_type": "code",
   "execution_count": null,
   "metadata": {},
   "outputs": [],
   "source": []
  },
  {
   "cell_type": "code",
   "execution_count": null,
   "metadata": {},
   "outputs": [],
   "source": []
  },
  {
   "cell_type": "code",
   "execution_count": null,
   "metadata": {},
   "outputs": [],
   "source": []
  },
  {
   "cell_type": "code",
   "execution_count": null,
   "metadata": {},
   "outputs": [],
   "source": []
  },
  {
   "cell_type": "code",
   "execution_count": null,
   "metadata": {},
   "outputs": [],
   "source": []
  }
 ],
 "metadata": {
  "kernelspec": {
   "display_name": "learn-env",
   "language": "python",
   "name": "python3"
  },
  "language_info": {
   "codemirror_mode": {
    "name": "ipython",
    "version": 3
   },
   "file_extension": ".py",
   "mimetype": "text/x-python",
   "name": "python",
   "nbconvert_exporter": "python",
   "pygments_lexer": "ipython3",
   "version": "3.8.5"
  }
 },
 "nbformat": 4,
 "nbformat_minor": 2
}
